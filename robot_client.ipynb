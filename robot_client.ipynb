{
 "cells": [
  {
   "cell_type": "code",
   "execution_count": 1,
   "id": "94115e1e-a2af-42c4-a2c0-865d8ec8eec6",
   "metadata": {},
   "outputs": [],
   "source": [
    "import urllib.parse\n",
    "import requests\n",
    "import json"
   ]
  },
  {
   "cell_type": "code",
   "execution_count": null,
   "id": "77c0fc29-6e0f-4b10-8b54-e41fb4262b1e",
   "metadata": {},
   "outputs": [],
   "source": []
  },
  {
   "cell_type": "markdown",
   "id": "7d8753f6-4cb4-4a7e-801c-b65c6a84a3e9",
   "metadata": {},
   "source": [
    "# Configs"
   ]
  },
  {
   "cell_type": "code",
   "execution_count": 2,
   "id": "02badfd6-ad60-451d-8c88-250757717cdb",
   "metadata": {},
   "outputs": [],
   "source": [
    "HOST = \"https://retailer.li-lady.com\"\n",
    "ACCESS_TOKEN = \"X9cwAtYGvMGcSPVhQH7015N9C_zAOyNjOr_bSQpOnl-\""
   ]
  },
  {
   "cell_type": "code",
   "execution_count": null,
   "id": "95c9e741-be60-4d30-a2d6-e6c1120f9944",
   "metadata": {},
   "outputs": [],
   "source": []
  },
  {
   "cell_type": "markdown",
   "id": "d0d2849e-073e-4a34-92ad-2ba5c7add120",
   "metadata": {},
   "source": [
    "# Functions"
   ]
  },
  {
   "cell_type": "code",
   "execution_count": 3,
   "id": "70e01ef1-5563-48cb-ae09-e41cddd8c626",
   "metadata": {},
   "outputs": [],
   "source": [
    "def getCompetitionList(host: str, is_robot: bool = True):\n",
    "    if is_robot:\n",
    "        # for robot only competitions\n",
    "        api = \"/api/competition/robotlist\"\n",
    "    else:\n",
    "        # can also play a standard competition using the APIs\n",
    "        api = \"/api/competition/studentlist\"       \n",
    "    \n",
    "    url = urllib.parse.urljoin(host, api)\n",
    "    res = requests.post(url=url)\n",
    "    if res.status_code == 200:\n",
    "        print(res.status_code)\n",
    "        return res.json().get('data')\n",
    "    else:\n",
    "        print(res.status_code, res.json())\n",
    "        return None"
   ]
  },
  {
   "cell_type": "code",
   "execution_count": 4,
   "id": "1666140b-6e1a-4d1b-886c-feea131d1b8b",
   "metadata": {},
   "outputs": [],
   "source": [
    "def getCompetitionData(host: str, access_token: str, competition_id: str):\n",
    "    api = \"/api/clientCompetitionData\"\n",
    "    url = urllib.parse.urljoin(host, api)\n",
    "    headers = {\"Authorization\": \"Bearer \" + access_token}\n",
    "    payload = {\"competition_id\": competition_id}\n",
    "    res = requests.post(url=url, json=payload, headers=headers)\n",
    "\n",
    "    if res.status_code == 200:\n",
    "        print(res.status_code)\n",
    "        return res.json()\n",
    "    else:\n",
    "        print(res.status_code, res.json())\n",
    "        return None"
   ]
  },
  {
   "cell_type": "code",
   "execution_count": 5,
   "id": "78854387-4949-4e4c-8322-3c50226c0eef",
   "metadata": {},
   "outputs": [],
   "source": [
    "def getRoundData(host: str, access_token: str, competition_id: str, round: int | None = None):\n",
    "    api = \"/api/clientRoundData\"\n",
    "    url = urllib.parse.urljoin(host, api)\n",
    "    headers = {\"Authorization\": \"Bearer \" + access_token}\n",
    "    payload = {\"competition_id\": competition_id}\n",
    "    if round is not None:\n",
    "        payload[\"round\"] = round\n",
    "    res = requests.post(url=url, json=payload, headers=headers)\n",
    "\n",
    "    if res.status_code == 200:\n",
    "        print(res.status_code)\n",
    "        return res.json()\n",
    "    else:\n",
    "        print(res.status_code, res.json())\n",
    "        return None"
   ]
  },
  {
   "cell_type": "code",
   "execution_count": 6,
   "id": "3906ef7b-cb60-41ab-97cc-8fd01273b44c",
   "metadata": {},
   "outputs": [],
   "source": [
    "def postPriceAction(host: str, access_token: str, competition_id: str, price_action: int):\n",
    "    api = \"/api/competitionRoundPriceAction\"\n",
    "    url = urllib.parse.urljoin(host, api)\n",
    "    headers = {\"Authorization\": \"Bearer \" + access_token}\n",
    "    payload = {\"competition_id\": competition_id, \"priceAction\": price_action}\n",
    "\n",
    "    res = requests.post(url=url, json=payload, headers=headers)\n",
    "\n",
    "    if res.status_code == 200:\n",
    "        print(res.status_code)\n",
    "        return res.json()\n",
    "    else:\n",
    "        print(res.status_code, res.json())\n",
    "        return None"
   ]
  },
  {
   "cell_type": "code",
   "execution_count": null,
   "id": "f7588c40-bfdf-4c73-a8b7-af8e42e3f625",
   "metadata": {},
   "outputs": [],
   "source": []
  },
  {
   "cell_type": "code",
   "execution_count": null,
   "id": "28167f3a-d666-4eea-849c-361f8c138f94",
   "metadata": {},
   "outputs": [],
   "source": []
  },
  {
   "cell_type": "code",
   "execution_count": 7,
   "id": "8acbab76-5657-4468-a148-66fca12cb054",
   "metadata": {},
   "outputs": [
    {
     "name": "stdout",
     "output_type": "stream",
     "text": [
      "200\n",
      "Competitions for robots: \n",
      " [{'competition_id': 'TEST_ROBOT', 'owner': 'tong.wang@nus.edu.sg'}, {'competition_id': 'ROBOT', 'owner': 'tong.wang@nus.edu.sg'}, {'competition_id': 'ROBOT_LONG', 'owner': 'tong.wang@nus.edu.sg'}]\n"
     ]
    }
   ],
   "source": [
    "# get the list of competitions for robots\n",
    "competition_list = getCompetitionList(host=HOST, is_robot=True)\n",
    "print(\"Competitions for robots: \\n\", competition_list)"
   ]
  },
  {
   "cell_type": "code",
   "execution_count": null,
   "id": "985d4e22-0103-4f21-b15d-a86f5cc2800f",
   "metadata": {},
   "outputs": [],
   "source": []
  },
  {
   "cell_type": "code",
   "execution_count": 8,
   "id": "47f1ed3d-b3dc-4f1a-be12-3ada0c58d2b3",
   "metadata": {},
   "outputs": [
    {
     "name": "stdout",
     "output_type": "stream",
     "text": [
      "200\n",
      "Competition_data: \n",
      " {'student': {'name': 'Tong (Test)', 'email': 'tongwang@nus.edu.sg'}, 'data': {'competition_id': 'TEST_ROBOT', 'totalRounds': 6, 'isRobot': True, 'isStarted': False}, 'status': 0}\n"
     ]
    }
   ],
   "source": [
    "# get competition data (for a new competition)\n",
    "competition_data = getCompetitionData(host=HOST, access_token=ACCESS_TOKEN, competition_id=\"TEST_ROBOT\")\n",
    "print(\"Competition_data: \\n\", competition_data)"
   ]
  },
  {
   "cell_type": "code",
   "execution_count": null,
   "id": "fea0420b-f7b5-4913-81a2-b07334ad4fc7",
   "metadata": {},
   "outputs": [],
   "source": []
  },
  {
   "cell_type": "code",
   "execution_count": 9,
   "id": "8d27c8d5-37a8-4510-af53-921463070299",
   "metadata": {},
   "outputs": [
    {
     "name": "stdout",
     "output_type": "stream",
     "text": [
      "200\n",
      "round_data: \n",
      " {'student': {'name': 'Tong (Test)', 'email': 'tongwang@nus.edu.sg'}, 'data': {'competition_id': 'TEST_ROBOT', 'totalRounds': 6, 'isRobot': True, 'isStarted': False}, 'status': 0}\n"
     ]
    }
   ],
   "source": [
    "# get round data (for a new competition)\n",
    "round_data = getRoundData(host=HOST, access_token=ACCESS_TOKEN, competition_id=\"TEST_ROBOT\")\n",
    "print(\"round_data: \\n\", round_data)"
   ]
  },
  {
   "cell_type": "code",
   "execution_count": null,
   "id": "ffe3fbeb-a498-483b-b910-f4728f24347d",
   "metadata": {},
   "outputs": [],
   "source": []
  },
  {
   "cell_type": "code",
   "execution_count": 10,
   "id": "bd5cf1f7-9450-4bc1-bd49-97b1b0424624",
   "metadata": {},
   "outputs": [
    {
     "name": "stdout",
     "output_type": "stream",
     "text": [
      "200\n",
      "Round data: \n",
      " {'student': {'name': 'Tong (Test)', 'email': 'tongwang@nus.edu.sg'}, 'data': {'competition_id': 'TEST_ROBOT', 'totalRounds': 6, 'isRobot': True, 'currentRound': 1, 'displayedRound': 1, 'clientRoundData': {'weeks': [{'price': 60, 'sales': 56, 'revenue': 3360, 'inventory': 1944}], 'isCompleted': False, 'priceActions': [0]}, 'isCompleted': False, 'isStarted': True, 'isView': True}, 'status': 0}\n"
     ]
    }
   ],
   "source": [
    "# post the 1st price action (Week 1 price is fixed at 0, the input has no effect)\n",
    "round_data = postPriceAction(host=HOST, access_token=ACCESS_TOKEN, competition_id=\"TEST_ROBOT\", price_action=2)\n",
    "print(\"Round data: \\n\", round_data)"
   ]
  },
  {
   "cell_type": "code",
   "execution_count": null,
   "id": "58973ee9-dda7-49bf-9c2d-40ec645b265e",
   "metadata": {},
   "outputs": [],
   "source": []
  },
  {
   "cell_type": "code",
   "execution_count": 11,
   "id": "66236466-6f1c-43f3-9cab-16c27aff7c58",
   "metadata": {},
   "outputs": [
    {
     "name": "stdout",
     "output_type": "stream",
     "text": [
      "200\n",
      "{'student': {'name': 'Tong (Test)', 'email': 'tongwang@nus.edu.sg'}, 'data': {'competition_id': 'TEST_ROBOT', 'totalRounds': 6, 'isRobot': True, 'currentRound': 1, 'displayedRound': 1, 'clientRoundData': {'weeks': [{'price': 60, 'sales': 56, 'revenue': 3360, 'inventory': 1944}, {'price': 48, 'sales': 115, 'revenue': 5520, 'inventory': 1829}], 'isCompleted': False, 'priceActions': [0, 2]}, 'isCompleted': False, 'isStarted': True, 'isView': True}, 'status': 0}\n",
      "200\n",
      "{'student': {'name': 'Tong (Test)', 'email': 'tongwang@nus.edu.sg'}, 'data': {'competition_id': 'TEST_ROBOT', 'totalRounds': 6, 'isRobot': True, 'currentRound': 1, 'displayedRound': 1, 'clientRoundData': {'weeks': [{'price': 60, 'sales': 56, 'revenue': 3360, 'inventory': 1944}, {'price': 48, 'sales': 115, 'revenue': 5520, 'inventory': 1829}, {'price': 48, 'sales': 101, 'revenue': 4848, 'inventory': 1728}], 'isCompleted': False, 'priceActions': [0, 2, 2]}, 'isCompleted': False, 'isStarted': True, 'isView': True}, 'status': 0}\n",
      "200\n",
      "{'student': {'name': 'Tong (Test)', 'email': 'tongwang@nus.edu.sg'}, 'data': {'competition_id': 'TEST_ROBOT', 'totalRounds': 6, 'isRobot': True, 'currentRound': 1, 'displayedRound': 1, 'clientRoundData': {'weeks': [{'price': 60, 'sales': 56, 'revenue': 3360, 'inventory': 1944}, {'price': 48, 'sales': 115, 'revenue': 5520, 'inventory': 1829}, {'price': 48, 'sales': 101, 'revenue': 4848, 'inventory': 1728}, {'price': 48, 'sales': 127, 'revenue': 6096, 'inventory': 1601}], 'isCompleted': False, 'priceActions': [0, 2, 2, 2]}, 'isCompleted': False, 'isStarted': True, 'isView': True}, 'status': 0}\n",
      "200\n",
      "{'student': {'name': 'Tong (Test)', 'email': 'tongwang@nus.edu.sg'}, 'data': {'competition_id': 'TEST_ROBOT', 'totalRounds': 6, 'isRobot': True, 'currentRound': 1, 'displayedRound': 1, 'clientRoundData': {'weeks': [{'price': 60, 'sales': 56, 'revenue': 3360, 'inventory': 1944}, {'price': 48, 'sales': 115, 'revenue': 5520, 'inventory': 1829}, {'price': 48, 'sales': 101, 'revenue': 4848, 'inventory': 1728}, {'price': 48, 'sales': 127, 'revenue': 6096, 'inventory': 1601}, {'price': 48, 'sales': 191, 'revenue': 9168, 'inventory': 1410}], 'isCompleted': False, 'priceActions': [0, 2, 2, 2, 2]}, 'isCompleted': False, 'isStarted': True, 'isView': True}, 'status': 0}\n",
      "200\n",
      "{'student': {'name': 'Tong (Test)', 'email': 'tongwang@nus.edu.sg'}, 'data': {'competition_id': 'TEST_ROBOT', 'totalRounds': 6, 'isRobot': True, 'currentRound': 1, 'displayedRound': 1, 'clientRoundData': {'weeks': [{'price': 60, 'sales': 56, 'revenue': 3360, 'inventory': 1944}, {'price': 48, 'sales': 115, 'revenue': 5520, 'inventory': 1829}, {'price': 48, 'sales': 101, 'revenue': 4848, 'inventory': 1728}, {'price': 48, 'sales': 127, 'revenue': 6096, 'inventory': 1601}, {'price': 48, 'sales': 191, 'revenue': 9168, 'inventory': 1410}, {'price': 48, 'sales': 146, 'revenue': 7008, 'inventory': 1264}], 'isCompleted': False, 'priceActions': [0, 2, 2, 2, 2, 2]}, 'isCompleted': False, 'isStarted': True, 'isView': True}, 'status': 0}\n",
      "200\n",
      "{'student': {'name': 'Tong (Test)', 'email': 'tongwang@nus.edu.sg'}, 'data': {'competition_id': 'TEST_ROBOT', 'totalRounds': 6, 'isRobot': True, 'currentRound': 1, 'displayedRound': 1, 'clientRoundData': {'weeks': [{'price': 60, 'sales': 56, 'revenue': 3360, 'inventory': 1944}, {'price': 48, 'sales': 115, 'revenue': 5520, 'inventory': 1829}, {'price': 48, 'sales': 101, 'revenue': 4848, 'inventory': 1728}, {'price': 48, 'sales': 127, 'revenue': 6096, 'inventory': 1601}, {'price': 48, 'sales': 191, 'revenue': 9168, 'inventory': 1410}, {'price': 48, 'sales': 146, 'revenue': 7008, 'inventory': 1264}, {'price': 48, 'sales': 63, 'revenue': 3024, 'inventory': 1201}], 'isCompleted': False, 'priceActions': [0, 2, 2, 2, 2, 2, 2]}, 'isCompleted': False, 'isStarted': True, 'isView': True}, 'status': 0}\n",
      "200\n",
      "{'student': {'name': 'Tong (Test)', 'email': 'tongwang@nus.edu.sg'}, 'data': {'competition_id': 'TEST_ROBOT', 'totalRounds': 6, 'isRobot': True, 'currentRound': 1, 'displayedRound': 1, 'clientRoundData': {'weeks': [{'price': 60, 'sales': 56, 'revenue': 3360, 'inventory': 1944}, {'price': 48, 'sales': 115, 'revenue': 5520, 'inventory': 1829}, {'price': 48, 'sales': 101, 'revenue': 4848, 'inventory': 1728}, {'price': 48, 'sales': 127, 'revenue': 6096, 'inventory': 1601}, {'price': 48, 'sales': 191, 'revenue': 9168, 'inventory': 1410}, {'price': 48, 'sales': 146, 'revenue': 7008, 'inventory': 1264}, {'price': 48, 'sales': 63, 'revenue': 3024, 'inventory': 1201}, {'price': 48, 'sales': 145, 'revenue': 6960, 'inventory': 1056}], 'isCompleted': False, 'priceActions': [0, 2, 2, 2, 2, 2, 2, 2]}, 'isCompleted': False, 'isStarted': True, 'isView': True}, 'status': 0}\n",
      "200\n",
      "{'student': {'name': 'Tong (Test)', 'email': 'tongwang@nus.edu.sg'}, 'data': {'competition_id': 'TEST_ROBOT', 'totalRounds': 6, 'isRobot': True, 'currentRound': 1, 'displayedRound': 1, 'clientRoundData': {'weeks': [{'price': 60, 'sales': 56, 'revenue': 3360, 'inventory': 1944}, {'price': 48, 'sales': 115, 'revenue': 5520, 'inventory': 1829}, {'price': 48, 'sales': 101, 'revenue': 4848, 'inventory': 1728}, {'price': 48, 'sales': 127, 'revenue': 6096, 'inventory': 1601}, {'price': 48, 'sales': 191, 'revenue': 9168, 'inventory': 1410}, {'price': 48, 'sales': 146, 'revenue': 7008, 'inventory': 1264}, {'price': 48, 'sales': 63, 'revenue': 3024, 'inventory': 1201}, {'price': 48, 'sales': 145, 'revenue': 6960, 'inventory': 1056}, {'price': 48, 'sales': 117, 'revenue': 5616, 'inventory': 939}], 'isCompleted': False, 'priceActions': [0, 2, 2, 2, 2, 2, 2, 2, 2]}, 'isCompleted': False, 'isStarted': True, 'isView': True}, 'status': 0}\n",
      "200\n",
      "{'student': {'name': 'Tong (Test)', 'email': 'tongwang@nus.edu.sg'}, 'data': {'competition_id': 'TEST_ROBOT', 'totalRounds': 6, 'isRobot': True, 'currentRound': 1, 'displayedRound': 1, 'clientRoundData': {'weeks': [{'price': 60, 'sales': 56, 'revenue': 3360, 'inventory': 1944}, {'price': 48, 'sales': 115, 'revenue': 5520, 'inventory': 1829}, {'price': 48, 'sales': 101, 'revenue': 4848, 'inventory': 1728}, {'price': 48, 'sales': 127, 'revenue': 6096, 'inventory': 1601}, {'price': 48, 'sales': 191, 'revenue': 9168, 'inventory': 1410}, {'price': 48, 'sales': 146, 'revenue': 7008, 'inventory': 1264}, {'price': 48, 'sales': 63, 'revenue': 3024, 'inventory': 1201}, {'price': 48, 'sales': 145, 'revenue': 6960, 'inventory': 1056}, {'price': 48, 'sales': 117, 'revenue': 5616, 'inventory': 939}, {'price': 48, 'sales': 90, 'revenue': 4320, 'inventory': 849}], 'isCompleted': False, 'priceActions': [0, 2, 2, 2, 2, 2, 2, 2, 2, 2]}, 'isCompleted': False, 'isStarted': True, 'isView': True}, 'status': 0}\n",
      "200\n",
      "{'student': {'name': 'Tong (Test)', 'email': 'tongwang@nus.edu.sg'}, 'data': {'competition_id': 'TEST_ROBOT', 'totalRounds': 6, 'isRobot': True, 'currentRound': 1, 'displayedRound': 1, 'clientRoundData': {'weeks': [{'price': 60, 'sales': 56, 'revenue': 3360, 'inventory': 1944}, {'price': 48, 'sales': 115, 'revenue': 5520, 'inventory': 1829}, {'price': 48, 'sales': 101, 'revenue': 4848, 'inventory': 1728}, {'price': 48, 'sales': 127, 'revenue': 6096, 'inventory': 1601}, {'price': 48, 'sales': 191, 'revenue': 9168, 'inventory': 1410}, {'price': 48, 'sales': 146, 'revenue': 7008, 'inventory': 1264}, {'price': 48, 'sales': 63, 'revenue': 3024, 'inventory': 1201}, {'price': 48, 'sales': 145, 'revenue': 6960, 'inventory': 1056}, {'price': 48, 'sales': 117, 'revenue': 5616, 'inventory': 939}, {'price': 48, 'sales': 90, 'revenue': 4320, 'inventory': 849}, {'price': 48, 'sales': 124, 'revenue': 5952, 'inventory': 725}], 'isCompleted': False, 'priceActions': [0, 2, 2, 2, 2, 2, 2, 2, 2, 2, 2]}, 'isCompleted': False, 'isStarted': True, 'isView': True}, 'status': 0}\n",
      "200\n",
      "{'student': {'name': 'Tong (Test)', 'email': 'tongwang@nus.edu.sg'}, 'data': {'competition_id': 'TEST_ROBOT', 'totalRounds': 6, 'isRobot': True, 'currentRound': 1, 'displayedRound': 1, 'clientRoundData': {'weeks': [{'price': 60, 'sales': 56, 'revenue': 3360, 'inventory': 1944}, {'price': 48, 'sales': 115, 'revenue': 5520, 'inventory': 1829}, {'price': 48, 'sales': 101, 'revenue': 4848, 'inventory': 1728}, {'price': 48, 'sales': 127, 'revenue': 6096, 'inventory': 1601}, {'price': 48, 'sales': 191, 'revenue': 9168, 'inventory': 1410}, {'price': 48, 'sales': 146, 'revenue': 7008, 'inventory': 1264}, {'price': 48, 'sales': 63, 'revenue': 3024, 'inventory': 1201}, {'price': 48, 'sales': 145, 'revenue': 6960, 'inventory': 1056}, {'price': 48, 'sales': 117, 'revenue': 5616, 'inventory': 939}, {'price': 48, 'sales': 90, 'revenue': 4320, 'inventory': 849}, {'price': 48, 'sales': 124, 'revenue': 5952, 'inventory': 725}, {'price': 48, 'sales': 154, 'revenue': 7392, 'inventory': 571}], 'isCompleted': False, 'priceActions': [0, 2, 2, 2, 2, 2, 2, 2, 2, 2, 2, 2]}, 'isCompleted': False, 'isStarted': True, 'isView': True}, 'status': 0}\n",
      "200\n",
      "{'student': {'name': 'Tong (Test)', 'email': 'tongwang@nus.edu.sg'}, 'data': {'competition_id': 'TEST_ROBOT', 'totalRounds': 6, 'isRobot': True, 'currentRound': 1, 'displayedRound': 1, 'clientRoundData': {'weeks': [{'price': 60, 'sales': 56, 'revenue': 3360, 'inventory': 1944}, {'price': 48, 'sales': 115, 'revenue': 5520, 'inventory': 1829}, {'price': 48, 'sales': 101, 'revenue': 4848, 'inventory': 1728}, {'price': 48, 'sales': 127, 'revenue': 6096, 'inventory': 1601}, {'price': 48, 'sales': 191, 'revenue': 9168, 'inventory': 1410}, {'price': 48, 'sales': 146, 'revenue': 7008, 'inventory': 1264}, {'price': 48, 'sales': 63, 'revenue': 3024, 'inventory': 1201}, {'price': 48, 'sales': 145, 'revenue': 6960, 'inventory': 1056}, {'price': 48, 'sales': 117, 'revenue': 5616, 'inventory': 939}, {'price': 48, 'sales': 90, 'revenue': 4320, 'inventory': 849}, {'price': 48, 'sales': 124, 'revenue': 5952, 'inventory': 725}, {'price': 48, 'sales': 154, 'revenue': 7392, 'inventory': 571}, {'price': 48, 'sales': 133, 'revenue': 6384, 'inventory': 438}], 'isCompleted': False, 'priceActions': [0, 2, 2, 2, 2, 2, 2, 2, 2, 2, 2, 2, 2]}, 'isCompleted': False, 'isStarted': True, 'isView': True}, 'status': 0}\n",
      "200\n",
      "{'student': {'name': 'Tong (Test)', 'email': 'tongwang@nus.edu.sg'}, 'data': {'competition_id': 'TEST_ROBOT', 'totalRounds': 6, 'isRobot': True, 'currentRound': 1, 'displayedRound': 1, 'clientRoundData': {'weeks': [{'price': 60, 'sales': 56, 'revenue': 3360, 'inventory': 1944}, {'price': 48, 'sales': 115, 'revenue': 5520, 'inventory': 1829}, {'price': 48, 'sales': 101, 'revenue': 4848, 'inventory': 1728}, {'price': 48, 'sales': 127, 'revenue': 6096, 'inventory': 1601}, {'price': 48, 'sales': 191, 'revenue': 9168, 'inventory': 1410}, {'price': 48, 'sales': 146, 'revenue': 7008, 'inventory': 1264}, {'price': 48, 'sales': 63, 'revenue': 3024, 'inventory': 1201}, {'price': 48, 'sales': 145, 'revenue': 6960, 'inventory': 1056}, {'price': 48, 'sales': 117, 'revenue': 5616, 'inventory': 939}, {'price': 48, 'sales': 90, 'revenue': 4320, 'inventory': 849}, {'price': 48, 'sales': 124, 'revenue': 5952, 'inventory': 725}, {'price': 48, 'sales': 154, 'revenue': 7392, 'inventory': 571}, {'price': 48, 'sales': 133, 'revenue': 6384, 'inventory': 438}, {'price': 48, 'sales': 111, 'revenue': 5328, 'inventory': 327}], 'isCompleted': False, 'priceActions': [0, 2, 2, 2, 2, 2, 2, 2, 2, 2, 2, 2, 2, 2]}, 'isCompleted': False, 'isStarted': True, 'isView': True}, 'status': 0}\n",
      "200\n",
      "{'student': {'name': 'Tong (Test)', 'email': 'tongwang@nus.edu.sg'}, 'data': {'competition_id': 'TEST_ROBOT', 'totalRounds': 6, 'isRobot': True, 'currentRound': 1, 'displayedRound': 1, 'clientRoundData': {'weeks': [{'price': 60, 'sales': 56, 'revenue': 3360, 'inventory': 1944}, {'price': 48, 'sales': 115, 'revenue': 5520, 'inventory': 1829}, {'price': 48, 'sales': 101, 'revenue': 4848, 'inventory': 1728}, {'price': 48, 'sales': 127, 'revenue': 6096, 'inventory': 1601}, {'price': 48, 'sales': 191, 'revenue': 9168, 'inventory': 1410}, {'price': 48, 'sales': 146, 'revenue': 7008, 'inventory': 1264}, {'price': 48, 'sales': 63, 'revenue': 3024, 'inventory': 1201}, {'price': 48, 'sales': 145, 'revenue': 6960, 'inventory': 1056}, {'price': 48, 'sales': 117, 'revenue': 5616, 'inventory': 939}, {'price': 48, 'sales': 90, 'revenue': 4320, 'inventory': 849}, {'price': 48, 'sales': 124, 'revenue': 5952, 'inventory': 725}, {'price': 48, 'sales': 154, 'revenue': 7392, 'inventory': 571}, {'price': 48, 'sales': 133, 'revenue': 6384, 'inventory': 438}, {'price': 48, 'sales': 111, 'revenue': 5328, 'inventory': 327}, {'price': 48, 'sales': 102, 'revenue': 4896, 'inventory': 225}, {'inventory': 0, 'price': 25, 'sales': 225, 'revenue': 5625}], 'isCompleted': True, 'optimal': {'revenue': 91497}, 'priceActions': [0, 2, 2, 2, 2, 2, 2, 2, 2, 2, 2, 2, 2, 2, 2]}, 'isCompleted': False, 'isStarted': True, 'isView': True}, 'status': 0}\n",
      "200\n",
      "{'student': {'name': 'Tong (Test)', 'email': 'tongwang@nus.edu.sg'}, 'data': {'competition_id': 'TEST_ROBOT', 'totalRounds': 6, 'isRobot': True, 'currentRound': 2, 'displayedRound': 2, 'clientRoundData': {'weeks': [{'price': 60, 'sales': 20, 'revenue': 1200, 'inventory': 1980}], 'isCompleted': False, 'priceActions': [0]}, 'isCompleted': False, 'isStarted': True, 'isView': True}, 'status': 0}\n",
      "200\n",
      "{'student': {'name': 'Tong (Test)', 'email': 'tongwang@nus.edu.sg'}, 'data': {'competition_id': 'TEST_ROBOT', 'totalRounds': 6, 'isRobot': True, 'currentRound': 2, 'displayedRound': 2, 'clientRoundData': {'weeks': [{'price': 60, 'sales': 20, 'revenue': 1200, 'inventory': 1980}, {'price': 48, 'sales': 50, 'revenue': 2400, 'inventory': 1930}], 'isCompleted': False, 'priceActions': [0, 2]}, 'isCompleted': False, 'isStarted': True, 'isView': True}, 'status': 0}\n",
      "200\n",
      "{'student': {'name': 'Tong (Test)', 'email': 'tongwang@nus.edu.sg'}, 'data': {'competition_id': 'TEST_ROBOT', 'totalRounds': 6, 'isRobot': True, 'currentRound': 2, 'displayedRound': 2, 'clientRoundData': {'weeks': [{'price': 60, 'sales': 20, 'revenue': 1200, 'inventory': 1980}, {'price': 48, 'sales': 50, 'revenue': 2400, 'inventory': 1930}, {'price': 48, 'sales': 53, 'revenue': 2544, 'inventory': 1877}], 'isCompleted': False, 'priceActions': [0, 2, 2]}, 'isCompleted': False, 'isStarted': True, 'isView': True}, 'status': 0}\n",
      "200\n",
      "{'student': {'name': 'Tong (Test)', 'email': 'tongwang@nus.edu.sg'}, 'data': {'competition_id': 'TEST_ROBOT', 'totalRounds': 6, 'isRobot': True, 'currentRound': 2, 'displayedRound': 2, 'clientRoundData': {'weeks': [{'price': 60, 'sales': 20, 'revenue': 1200, 'inventory': 1980}, {'price': 48, 'sales': 50, 'revenue': 2400, 'inventory': 1930}, {'price': 48, 'sales': 53, 'revenue': 2544, 'inventory': 1877}, {'price': 48, 'sales': 44, 'revenue': 2112, 'inventory': 1833}], 'isCompleted': False, 'priceActions': [0, 2, 2, 2]}, 'isCompleted': False, 'isStarted': True, 'isView': True}, 'status': 0}\n",
      "200\n",
      "{'student': {'name': 'Tong (Test)', 'email': 'tongwang@nus.edu.sg'}, 'data': {'competition_id': 'TEST_ROBOT', 'totalRounds': 6, 'isRobot': True, 'currentRound': 2, 'displayedRound': 2, 'clientRoundData': {'weeks': [{'price': 60, 'sales': 20, 'revenue': 1200, 'inventory': 1980}, {'price': 48, 'sales': 50, 'revenue': 2400, 'inventory': 1930}, {'price': 48, 'sales': 53, 'revenue': 2544, 'inventory': 1877}, {'price': 48, 'sales': 44, 'revenue': 2112, 'inventory': 1833}, {'price': 48, 'sales': 42, 'revenue': 2016, 'inventory': 1791}], 'isCompleted': False, 'priceActions': [0, 2, 2, 2, 2]}, 'isCompleted': False, 'isStarted': True, 'isView': True}, 'status': 0}\n",
      "200\n",
      "{'student': {'name': 'Tong (Test)', 'email': 'tongwang@nus.edu.sg'}, 'data': {'competition_id': 'TEST_ROBOT', 'totalRounds': 6, 'isRobot': True, 'currentRound': 2, 'displayedRound': 2, 'clientRoundData': {'weeks': [{'price': 60, 'sales': 20, 'revenue': 1200, 'inventory': 1980}, {'price': 48, 'sales': 50, 'revenue': 2400, 'inventory': 1930}, {'price': 48, 'sales': 53, 'revenue': 2544, 'inventory': 1877}, {'price': 48, 'sales': 44, 'revenue': 2112, 'inventory': 1833}, {'price': 48, 'sales': 42, 'revenue': 2016, 'inventory': 1791}, {'price': 48, 'sales': 48, 'revenue': 2304, 'inventory': 1743}], 'isCompleted': False, 'priceActions': [0, 2, 2, 2, 2, 2]}, 'isCompleted': False, 'isStarted': True, 'isView': True}, 'status': 0}\n",
      "200\n",
      "{'student': {'name': 'Tong (Test)', 'email': 'tongwang@nus.edu.sg'}, 'data': {'competition_id': 'TEST_ROBOT', 'totalRounds': 6, 'isRobot': True, 'currentRound': 2, 'displayedRound': 2, 'clientRoundData': {'weeks': [{'price': 60, 'sales': 20, 'revenue': 1200, 'inventory': 1980}, {'price': 48, 'sales': 50, 'revenue': 2400, 'inventory': 1930}, {'price': 48, 'sales': 53, 'revenue': 2544, 'inventory': 1877}, {'price': 48, 'sales': 44, 'revenue': 2112, 'inventory': 1833}, {'price': 48, 'sales': 42, 'revenue': 2016, 'inventory': 1791}, {'price': 48, 'sales': 48, 'revenue': 2304, 'inventory': 1743}, {'price': 48, 'sales': 28, 'revenue': 1344, 'inventory': 1715}], 'isCompleted': False, 'priceActions': [0, 2, 2, 2, 2, 2, 2]}, 'isCompleted': False, 'isStarted': True, 'isView': True}, 'status': 0}\n",
      "200\n",
      "{'student': {'name': 'Tong (Test)', 'email': 'tongwang@nus.edu.sg'}, 'data': {'competition_id': 'TEST_ROBOT', 'totalRounds': 6, 'isRobot': True, 'currentRound': 2, 'displayedRound': 2, 'clientRoundData': {'weeks': [{'price': 60, 'sales': 20, 'revenue': 1200, 'inventory': 1980}, {'price': 48, 'sales': 50, 'revenue': 2400, 'inventory': 1930}, {'price': 48, 'sales': 53, 'revenue': 2544, 'inventory': 1877}, {'price': 48, 'sales': 44, 'revenue': 2112, 'inventory': 1833}, {'price': 48, 'sales': 42, 'revenue': 2016, 'inventory': 1791}, {'price': 48, 'sales': 48, 'revenue': 2304, 'inventory': 1743}, {'price': 48, 'sales': 28, 'revenue': 1344, 'inventory': 1715}, {'price': 48, 'sales': 47, 'revenue': 2256, 'inventory': 1668}], 'isCompleted': False, 'priceActions': [0, 2, 2, 2, 2, 2, 2, 2]}, 'isCompleted': False, 'isStarted': True, 'isView': True}, 'status': 0}\n",
      "200\n",
      "{'student': {'name': 'Tong (Test)', 'email': 'tongwang@nus.edu.sg'}, 'data': {'competition_id': 'TEST_ROBOT', 'totalRounds': 6, 'isRobot': True, 'currentRound': 2, 'displayedRound': 2, 'clientRoundData': {'weeks': [{'price': 60, 'sales': 20, 'revenue': 1200, 'inventory': 1980}, {'price': 48, 'sales': 50, 'revenue': 2400, 'inventory': 1930}, {'price': 48, 'sales': 53, 'revenue': 2544, 'inventory': 1877}, {'price': 48, 'sales': 44, 'revenue': 2112, 'inventory': 1833}, {'price': 48, 'sales': 42, 'revenue': 2016, 'inventory': 1791}, {'price': 48, 'sales': 48, 'revenue': 2304, 'inventory': 1743}, {'price': 48, 'sales': 28, 'revenue': 1344, 'inventory': 1715}, {'price': 48, 'sales': 47, 'revenue': 2256, 'inventory': 1668}, {'price': 48, 'sales': 81, 'revenue': 3888, 'inventory': 1587}], 'isCompleted': False, 'priceActions': [0, 2, 2, 2, 2, 2, 2, 2, 2]}, 'isCompleted': False, 'isStarted': True, 'isView': True}, 'status': 0}\n",
      "200\n",
      "{'student': {'name': 'Tong (Test)', 'email': 'tongwang@nus.edu.sg'}, 'data': {'competition_id': 'TEST_ROBOT', 'totalRounds': 6, 'isRobot': True, 'currentRound': 2, 'displayedRound': 2, 'clientRoundData': {'weeks': [{'price': 60, 'sales': 20, 'revenue': 1200, 'inventory': 1980}, {'price': 48, 'sales': 50, 'revenue': 2400, 'inventory': 1930}, {'price': 48, 'sales': 53, 'revenue': 2544, 'inventory': 1877}, {'price': 48, 'sales': 44, 'revenue': 2112, 'inventory': 1833}, {'price': 48, 'sales': 42, 'revenue': 2016, 'inventory': 1791}, {'price': 48, 'sales': 48, 'revenue': 2304, 'inventory': 1743}, {'price': 48, 'sales': 28, 'revenue': 1344, 'inventory': 1715}, {'price': 48, 'sales': 47, 'revenue': 2256, 'inventory': 1668}, {'price': 48, 'sales': 81, 'revenue': 3888, 'inventory': 1587}, {'price': 48, 'sales': 41, 'revenue': 1968, 'inventory': 1546}], 'isCompleted': False, 'priceActions': [0, 2, 2, 2, 2, 2, 2, 2, 2, 2]}, 'isCompleted': False, 'isStarted': True, 'isView': True}, 'status': 0}\n",
      "200\n",
      "{'student': {'name': 'Tong (Test)', 'email': 'tongwang@nus.edu.sg'}, 'data': {'competition_id': 'TEST_ROBOT', 'totalRounds': 6, 'isRobot': True, 'currentRound': 2, 'displayedRound': 2, 'clientRoundData': {'weeks': [{'price': 60, 'sales': 20, 'revenue': 1200, 'inventory': 1980}, {'price': 48, 'sales': 50, 'revenue': 2400, 'inventory': 1930}, {'price': 48, 'sales': 53, 'revenue': 2544, 'inventory': 1877}, {'price': 48, 'sales': 44, 'revenue': 2112, 'inventory': 1833}, {'price': 48, 'sales': 42, 'revenue': 2016, 'inventory': 1791}, {'price': 48, 'sales': 48, 'revenue': 2304, 'inventory': 1743}, {'price': 48, 'sales': 28, 'revenue': 1344, 'inventory': 1715}, {'price': 48, 'sales': 47, 'revenue': 2256, 'inventory': 1668}, {'price': 48, 'sales': 81, 'revenue': 3888, 'inventory': 1587}, {'price': 48, 'sales': 41, 'revenue': 1968, 'inventory': 1546}, {'price': 48, 'sales': 35, 'revenue': 1680, 'inventory': 1511}], 'isCompleted': False, 'priceActions': [0, 2, 2, 2, 2, 2, 2, 2, 2, 2, 2]}, 'isCompleted': False, 'isStarted': True, 'isView': True}, 'status': 0}\n",
      "200\n",
      "{'student': {'name': 'Tong (Test)', 'email': 'tongwang@nus.edu.sg'}, 'data': {'competition_id': 'TEST_ROBOT', 'totalRounds': 6, 'isRobot': True, 'currentRound': 2, 'displayedRound': 2, 'clientRoundData': {'weeks': [{'price': 60, 'sales': 20, 'revenue': 1200, 'inventory': 1980}, {'price': 48, 'sales': 50, 'revenue': 2400, 'inventory': 1930}, {'price': 48, 'sales': 53, 'revenue': 2544, 'inventory': 1877}, {'price': 48, 'sales': 44, 'revenue': 2112, 'inventory': 1833}, {'price': 48, 'sales': 42, 'revenue': 2016, 'inventory': 1791}, {'price': 48, 'sales': 48, 'revenue': 2304, 'inventory': 1743}, {'price': 48, 'sales': 28, 'revenue': 1344, 'inventory': 1715}, {'price': 48, 'sales': 47, 'revenue': 2256, 'inventory': 1668}, {'price': 48, 'sales': 81, 'revenue': 3888, 'inventory': 1587}, {'price': 48, 'sales': 41, 'revenue': 1968, 'inventory': 1546}, {'price': 48, 'sales': 35, 'revenue': 1680, 'inventory': 1511}, {'price': 48, 'sales': 57, 'revenue': 2736, 'inventory': 1454}], 'isCompleted': False, 'priceActions': [0, 2, 2, 2, 2, 2, 2, 2, 2, 2, 2, 2]}, 'isCompleted': False, 'isStarted': True, 'isView': True}, 'status': 0}\n",
      "200\n",
      "{'student': {'name': 'Tong (Test)', 'email': 'tongwang@nus.edu.sg'}, 'data': {'competition_id': 'TEST_ROBOT', 'totalRounds': 6, 'isRobot': True, 'currentRound': 2, 'displayedRound': 2, 'clientRoundData': {'weeks': [{'price': 60, 'sales': 20, 'revenue': 1200, 'inventory': 1980}, {'price': 48, 'sales': 50, 'revenue': 2400, 'inventory': 1930}, {'price': 48, 'sales': 53, 'revenue': 2544, 'inventory': 1877}, {'price': 48, 'sales': 44, 'revenue': 2112, 'inventory': 1833}, {'price': 48, 'sales': 42, 'revenue': 2016, 'inventory': 1791}, {'price': 48, 'sales': 48, 'revenue': 2304, 'inventory': 1743}, {'price': 48, 'sales': 28, 'revenue': 1344, 'inventory': 1715}, {'price': 48, 'sales': 47, 'revenue': 2256, 'inventory': 1668}, {'price': 48, 'sales': 81, 'revenue': 3888, 'inventory': 1587}, {'price': 48, 'sales': 41, 'revenue': 1968, 'inventory': 1546}, {'price': 48, 'sales': 35, 'revenue': 1680, 'inventory': 1511}, {'price': 48, 'sales': 57, 'revenue': 2736, 'inventory': 1454}, {'price': 48, 'sales': 46, 'revenue': 2208, 'inventory': 1408}], 'isCompleted': False, 'priceActions': [0, 2, 2, 2, 2, 2, 2, 2, 2, 2, 2, 2, 2]}, 'isCompleted': False, 'isStarted': True, 'isView': True}, 'status': 0}\n",
      "200\n",
      "{'student': {'name': 'Tong (Test)', 'email': 'tongwang@nus.edu.sg'}, 'data': {'competition_id': 'TEST_ROBOT', 'totalRounds': 6, 'isRobot': True, 'currentRound': 2, 'displayedRound': 2, 'clientRoundData': {'weeks': [{'price': 60, 'sales': 20, 'revenue': 1200, 'inventory': 1980}, {'price': 48, 'sales': 50, 'revenue': 2400, 'inventory': 1930}, {'price': 48, 'sales': 53, 'revenue': 2544, 'inventory': 1877}, {'price': 48, 'sales': 44, 'revenue': 2112, 'inventory': 1833}, {'price': 48, 'sales': 42, 'revenue': 2016, 'inventory': 1791}, {'price': 48, 'sales': 48, 'revenue': 2304, 'inventory': 1743}, {'price': 48, 'sales': 28, 'revenue': 1344, 'inventory': 1715}, {'price': 48, 'sales': 47, 'revenue': 2256, 'inventory': 1668}, {'price': 48, 'sales': 81, 'revenue': 3888, 'inventory': 1587}, {'price': 48, 'sales': 41, 'revenue': 1968, 'inventory': 1546}, {'price': 48, 'sales': 35, 'revenue': 1680, 'inventory': 1511}, {'price': 48, 'sales': 57, 'revenue': 2736, 'inventory': 1454}, {'price': 48, 'sales': 46, 'revenue': 2208, 'inventory': 1408}, {'price': 48, 'sales': 20, 'revenue': 960, 'inventory': 1388}], 'isCompleted': False, 'priceActions': [0, 2, 2, 2, 2, 2, 2, 2, 2, 2, 2, 2, 2, 2]}, 'isCompleted': False, 'isStarted': True, 'isView': True}, 'status': 0}\n",
      "200\n",
      "{'student': {'name': 'Tong (Test)', 'email': 'tongwang@nus.edu.sg'}, 'data': {'competition_id': 'TEST_ROBOT', 'totalRounds': 6, 'isRobot': True, 'currentRound': 2, 'displayedRound': 2, 'clientRoundData': {'weeks': [{'price': 60, 'sales': 20, 'revenue': 1200, 'inventory': 1980}, {'price': 48, 'sales': 50, 'revenue': 2400, 'inventory': 1930}, {'price': 48, 'sales': 53, 'revenue': 2544, 'inventory': 1877}, {'price': 48, 'sales': 44, 'revenue': 2112, 'inventory': 1833}, {'price': 48, 'sales': 42, 'revenue': 2016, 'inventory': 1791}, {'price': 48, 'sales': 48, 'revenue': 2304, 'inventory': 1743}, {'price': 48, 'sales': 28, 'revenue': 1344, 'inventory': 1715}, {'price': 48, 'sales': 47, 'revenue': 2256, 'inventory': 1668}, {'price': 48, 'sales': 81, 'revenue': 3888, 'inventory': 1587}, {'price': 48, 'sales': 41, 'revenue': 1968, 'inventory': 1546}, {'price': 48, 'sales': 35, 'revenue': 1680, 'inventory': 1511}, {'price': 48, 'sales': 57, 'revenue': 2736, 'inventory': 1454}, {'price': 48, 'sales': 46, 'revenue': 2208, 'inventory': 1408}, {'price': 48, 'sales': 20, 'revenue': 960, 'inventory': 1388}, {'price': 48, 'sales': 41, 'revenue': 1968, 'inventory': 1347}, {'inventory': 0, 'price': 25, 'sales': 1347, 'revenue': 33675}], 'isCompleted': True, 'optimal': {'revenue': 65259}, 'priceActions': [0, 2, 2, 2, 2, 2, 2, 2, 2, 2, 2, 2, 2, 2, 2]}, 'isCompleted': False, 'isStarted': True, 'isView': True}, 'status': 0}\n",
      "200\n",
      "{'student': {'name': 'Tong (Test)', 'email': 'tongwang@nus.edu.sg'}, 'data': {'competition_id': 'TEST_ROBOT', 'totalRounds': 6, 'isRobot': True, 'currentRound': 3, 'displayedRound': 3, 'clientRoundData': {'weeks': [{'price': 60, 'sales': 27, 'revenue': 1620, 'inventory': 1973}], 'isCompleted': False, 'priceActions': [0]}, 'isCompleted': False, 'isStarted': True, 'isView': True}, 'status': 0}\n",
      "200\n",
      "{'student': {'name': 'Tong (Test)', 'email': 'tongwang@nus.edu.sg'}, 'data': {'competition_id': 'TEST_ROBOT', 'totalRounds': 6, 'isRobot': True, 'currentRound': 3, 'displayedRound': 3, 'clientRoundData': {'weeks': [{'price': 60, 'sales': 27, 'revenue': 1620, 'inventory': 1973}, {'price': 48, 'sales': 75, 'revenue': 3600, 'inventory': 1898}], 'isCompleted': False, 'priceActions': [0, 2]}, 'isCompleted': False, 'isStarted': True, 'isView': True}, 'status': 0}\n",
      "200\n",
      "{'student': {'name': 'Tong (Test)', 'email': 'tongwang@nus.edu.sg'}, 'data': {'competition_id': 'TEST_ROBOT', 'totalRounds': 6, 'isRobot': True, 'currentRound': 3, 'displayedRound': 3, 'clientRoundData': {'weeks': [{'price': 60, 'sales': 27, 'revenue': 1620, 'inventory': 1973}, {'price': 48, 'sales': 75, 'revenue': 3600, 'inventory': 1898}, {'price': 48, 'sales': 85, 'revenue': 4080, 'inventory': 1813}], 'isCompleted': False, 'priceActions': [0, 2, 2]}, 'isCompleted': False, 'isStarted': True, 'isView': True}, 'status': 0}\n",
      "200\n",
      "{'student': {'name': 'Tong (Test)', 'email': 'tongwang@nus.edu.sg'}, 'data': {'competition_id': 'TEST_ROBOT', 'totalRounds': 6, 'isRobot': True, 'currentRound': 3, 'displayedRound': 3, 'clientRoundData': {'weeks': [{'price': 60, 'sales': 27, 'revenue': 1620, 'inventory': 1973}, {'price': 48, 'sales': 75, 'revenue': 3600, 'inventory': 1898}, {'price': 48, 'sales': 85, 'revenue': 4080, 'inventory': 1813}, {'price': 48, 'sales': 35, 'revenue': 1680, 'inventory': 1778}], 'isCompleted': False, 'priceActions': [0, 2, 2, 2]}, 'isCompleted': False, 'isStarted': True, 'isView': True}, 'status': 0}\n",
      "200\n",
      "{'student': {'name': 'Tong (Test)', 'email': 'tongwang@nus.edu.sg'}, 'data': {'competition_id': 'TEST_ROBOT', 'totalRounds': 6, 'isRobot': True, 'currentRound': 3, 'displayedRound': 3, 'clientRoundData': {'weeks': [{'price': 60, 'sales': 27, 'revenue': 1620, 'inventory': 1973}, {'price': 48, 'sales': 75, 'revenue': 3600, 'inventory': 1898}, {'price': 48, 'sales': 85, 'revenue': 4080, 'inventory': 1813}, {'price': 48, 'sales': 35, 'revenue': 1680, 'inventory': 1778}, {'price': 48, 'sales': 58, 'revenue': 2784, 'inventory': 1720}], 'isCompleted': False, 'priceActions': [0, 2, 2, 2, 2]}, 'isCompleted': False, 'isStarted': True, 'isView': True}, 'status': 0}\n",
      "200\n",
      "{'student': {'name': 'Tong (Test)', 'email': 'tongwang@nus.edu.sg'}, 'data': {'competition_id': 'TEST_ROBOT', 'totalRounds': 6, 'isRobot': True, 'currentRound': 3, 'displayedRound': 3, 'clientRoundData': {'weeks': [{'price': 60, 'sales': 27, 'revenue': 1620, 'inventory': 1973}, {'price': 48, 'sales': 75, 'revenue': 3600, 'inventory': 1898}, {'price': 48, 'sales': 85, 'revenue': 4080, 'inventory': 1813}, {'price': 48, 'sales': 35, 'revenue': 1680, 'inventory': 1778}, {'price': 48, 'sales': 58, 'revenue': 2784, 'inventory': 1720}, {'price': 48, 'sales': 46, 'revenue': 2208, 'inventory': 1674}], 'isCompleted': False, 'priceActions': [0, 2, 2, 2, 2, 2]}, 'isCompleted': False, 'isStarted': True, 'isView': True}, 'status': 0}\n",
      "200\n",
      "{'student': {'name': 'Tong (Test)', 'email': 'tongwang@nus.edu.sg'}, 'data': {'competition_id': 'TEST_ROBOT', 'totalRounds': 6, 'isRobot': True, 'currentRound': 3, 'displayedRound': 3, 'clientRoundData': {'weeks': [{'price': 60, 'sales': 27, 'revenue': 1620, 'inventory': 1973}, {'price': 48, 'sales': 75, 'revenue': 3600, 'inventory': 1898}, {'price': 48, 'sales': 85, 'revenue': 4080, 'inventory': 1813}, {'price': 48, 'sales': 35, 'revenue': 1680, 'inventory': 1778}, {'price': 48, 'sales': 58, 'revenue': 2784, 'inventory': 1720}, {'price': 48, 'sales': 46, 'revenue': 2208, 'inventory': 1674}, {'price': 48, 'sales': 68, 'revenue': 3264, 'inventory': 1606}], 'isCompleted': False, 'priceActions': [0, 2, 2, 2, 2, 2, 2]}, 'isCompleted': False, 'isStarted': True, 'isView': True}, 'status': 0}\n",
      "200\n",
      "{'student': {'name': 'Tong (Test)', 'email': 'tongwang@nus.edu.sg'}, 'data': {'competition_id': 'TEST_ROBOT', 'totalRounds': 6, 'isRobot': True, 'currentRound': 3, 'displayedRound': 3, 'clientRoundData': {'weeks': [{'price': 60, 'sales': 27, 'revenue': 1620, 'inventory': 1973}, {'price': 48, 'sales': 75, 'revenue': 3600, 'inventory': 1898}, {'price': 48, 'sales': 85, 'revenue': 4080, 'inventory': 1813}, {'price': 48, 'sales': 35, 'revenue': 1680, 'inventory': 1778}, {'price': 48, 'sales': 58, 'revenue': 2784, 'inventory': 1720}, {'price': 48, 'sales': 46, 'revenue': 2208, 'inventory': 1674}, {'price': 48, 'sales': 68, 'revenue': 3264, 'inventory': 1606}, {'price': 48, 'sales': 95, 'revenue': 4560, 'inventory': 1511}], 'isCompleted': False, 'priceActions': [0, 2, 2, 2, 2, 2, 2, 2]}, 'isCompleted': False, 'isStarted': True, 'isView': True}, 'status': 0}\n",
      "200\n",
      "{'student': {'name': 'Tong (Test)', 'email': 'tongwang@nus.edu.sg'}, 'data': {'competition_id': 'TEST_ROBOT', 'totalRounds': 6, 'isRobot': True, 'currentRound': 3, 'displayedRound': 3, 'clientRoundData': {'weeks': [{'price': 60, 'sales': 27, 'revenue': 1620, 'inventory': 1973}, {'price': 48, 'sales': 75, 'revenue': 3600, 'inventory': 1898}, {'price': 48, 'sales': 85, 'revenue': 4080, 'inventory': 1813}, {'price': 48, 'sales': 35, 'revenue': 1680, 'inventory': 1778}, {'price': 48, 'sales': 58, 'revenue': 2784, 'inventory': 1720}, {'price': 48, 'sales': 46, 'revenue': 2208, 'inventory': 1674}, {'price': 48, 'sales': 68, 'revenue': 3264, 'inventory': 1606}, {'price': 48, 'sales': 95, 'revenue': 4560, 'inventory': 1511}, {'price': 48, 'sales': 64, 'revenue': 3072, 'inventory': 1447}], 'isCompleted': False, 'priceActions': [0, 2, 2, 2, 2, 2, 2, 2, 2]}, 'isCompleted': False, 'isStarted': True, 'isView': True}, 'status': 0}\n",
      "200\n",
      "{'student': {'name': 'Tong (Test)', 'email': 'tongwang@nus.edu.sg'}, 'data': {'competition_id': 'TEST_ROBOT', 'totalRounds': 6, 'isRobot': True, 'currentRound': 3, 'displayedRound': 3, 'clientRoundData': {'weeks': [{'price': 60, 'sales': 27, 'revenue': 1620, 'inventory': 1973}, {'price': 48, 'sales': 75, 'revenue': 3600, 'inventory': 1898}, {'price': 48, 'sales': 85, 'revenue': 4080, 'inventory': 1813}, {'price': 48, 'sales': 35, 'revenue': 1680, 'inventory': 1778}, {'price': 48, 'sales': 58, 'revenue': 2784, 'inventory': 1720}, {'price': 48, 'sales': 46, 'revenue': 2208, 'inventory': 1674}, {'price': 48, 'sales': 68, 'revenue': 3264, 'inventory': 1606}, {'price': 48, 'sales': 95, 'revenue': 4560, 'inventory': 1511}, {'price': 48, 'sales': 64, 'revenue': 3072, 'inventory': 1447}, {'price': 48, 'sales': 39, 'revenue': 1872, 'inventory': 1408}], 'isCompleted': False, 'priceActions': [0, 2, 2, 2, 2, 2, 2, 2, 2, 2]}, 'isCompleted': False, 'isStarted': True, 'isView': True}, 'status': 0}\n",
      "200\n",
      "{'student': {'name': 'Tong (Test)', 'email': 'tongwang@nus.edu.sg'}, 'data': {'competition_id': 'TEST_ROBOT', 'totalRounds': 6, 'isRobot': True, 'currentRound': 3, 'displayedRound': 3, 'clientRoundData': {'weeks': [{'price': 60, 'sales': 27, 'revenue': 1620, 'inventory': 1973}, {'price': 48, 'sales': 75, 'revenue': 3600, 'inventory': 1898}, {'price': 48, 'sales': 85, 'revenue': 4080, 'inventory': 1813}, {'price': 48, 'sales': 35, 'revenue': 1680, 'inventory': 1778}, {'price': 48, 'sales': 58, 'revenue': 2784, 'inventory': 1720}, {'price': 48, 'sales': 46, 'revenue': 2208, 'inventory': 1674}, {'price': 48, 'sales': 68, 'revenue': 3264, 'inventory': 1606}, {'price': 48, 'sales': 95, 'revenue': 4560, 'inventory': 1511}, {'price': 48, 'sales': 64, 'revenue': 3072, 'inventory': 1447}, {'price': 48, 'sales': 39, 'revenue': 1872, 'inventory': 1408}, {'price': 48, 'sales': 78, 'revenue': 3744, 'inventory': 1330}], 'isCompleted': False, 'priceActions': [0, 2, 2, 2, 2, 2, 2, 2, 2, 2, 2]}, 'isCompleted': False, 'isStarted': True, 'isView': True}, 'status': 0}\n",
      "200\n",
      "{'student': {'name': 'Tong (Test)', 'email': 'tongwang@nus.edu.sg'}, 'data': {'competition_id': 'TEST_ROBOT', 'totalRounds': 6, 'isRobot': True, 'currentRound': 3, 'displayedRound': 3, 'clientRoundData': {'weeks': [{'price': 60, 'sales': 27, 'revenue': 1620, 'inventory': 1973}, {'price': 48, 'sales': 75, 'revenue': 3600, 'inventory': 1898}, {'price': 48, 'sales': 85, 'revenue': 4080, 'inventory': 1813}, {'price': 48, 'sales': 35, 'revenue': 1680, 'inventory': 1778}, {'price': 48, 'sales': 58, 'revenue': 2784, 'inventory': 1720}, {'price': 48, 'sales': 46, 'revenue': 2208, 'inventory': 1674}, {'price': 48, 'sales': 68, 'revenue': 3264, 'inventory': 1606}, {'price': 48, 'sales': 95, 'revenue': 4560, 'inventory': 1511}, {'price': 48, 'sales': 64, 'revenue': 3072, 'inventory': 1447}, {'price': 48, 'sales': 39, 'revenue': 1872, 'inventory': 1408}, {'price': 48, 'sales': 78, 'revenue': 3744, 'inventory': 1330}, {'price': 48, 'sales': 82, 'revenue': 3936, 'inventory': 1248}], 'isCompleted': False, 'priceActions': [0, 2, 2, 2, 2, 2, 2, 2, 2, 2, 2, 2]}, 'isCompleted': False, 'isStarted': True, 'isView': True}, 'status': 0}\n",
      "200\n",
      "{'student': {'name': 'Tong (Test)', 'email': 'tongwang@nus.edu.sg'}, 'data': {'competition_id': 'TEST_ROBOT', 'totalRounds': 6, 'isRobot': True, 'currentRound': 3, 'displayedRound': 3, 'clientRoundData': {'weeks': [{'price': 60, 'sales': 27, 'revenue': 1620, 'inventory': 1973}, {'price': 48, 'sales': 75, 'revenue': 3600, 'inventory': 1898}, {'price': 48, 'sales': 85, 'revenue': 4080, 'inventory': 1813}, {'price': 48, 'sales': 35, 'revenue': 1680, 'inventory': 1778}, {'price': 48, 'sales': 58, 'revenue': 2784, 'inventory': 1720}, {'price': 48, 'sales': 46, 'revenue': 2208, 'inventory': 1674}, {'price': 48, 'sales': 68, 'revenue': 3264, 'inventory': 1606}, {'price': 48, 'sales': 95, 'revenue': 4560, 'inventory': 1511}, {'price': 48, 'sales': 64, 'revenue': 3072, 'inventory': 1447}, {'price': 48, 'sales': 39, 'revenue': 1872, 'inventory': 1408}, {'price': 48, 'sales': 78, 'revenue': 3744, 'inventory': 1330}, {'price': 48, 'sales': 82, 'revenue': 3936, 'inventory': 1248}, {'price': 48, 'sales': 77, 'revenue': 3696, 'inventory': 1171}], 'isCompleted': False, 'priceActions': [0, 2, 2, 2, 2, 2, 2, 2, 2, 2, 2, 2, 2]}, 'isCompleted': False, 'isStarted': True, 'isView': True}, 'status': 0}\n",
      "200\n",
      "{'student': {'name': 'Tong (Test)', 'email': 'tongwang@nus.edu.sg'}, 'data': {'competition_id': 'TEST_ROBOT', 'totalRounds': 6, 'isRobot': True, 'currentRound': 3, 'displayedRound': 3, 'clientRoundData': {'weeks': [{'price': 60, 'sales': 27, 'revenue': 1620, 'inventory': 1973}, {'price': 48, 'sales': 75, 'revenue': 3600, 'inventory': 1898}, {'price': 48, 'sales': 85, 'revenue': 4080, 'inventory': 1813}, {'price': 48, 'sales': 35, 'revenue': 1680, 'inventory': 1778}, {'price': 48, 'sales': 58, 'revenue': 2784, 'inventory': 1720}, {'price': 48, 'sales': 46, 'revenue': 2208, 'inventory': 1674}, {'price': 48, 'sales': 68, 'revenue': 3264, 'inventory': 1606}, {'price': 48, 'sales': 95, 'revenue': 4560, 'inventory': 1511}, {'price': 48, 'sales': 64, 'revenue': 3072, 'inventory': 1447}, {'price': 48, 'sales': 39, 'revenue': 1872, 'inventory': 1408}, {'price': 48, 'sales': 78, 'revenue': 3744, 'inventory': 1330}, {'price': 48, 'sales': 82, 'revenue': 3936, 'inventory': 1248}, {'price': 48, 'sales': 77, 'revenue': 3696, 'inventory': 1171}, {'price': 48, 'sales': 117, 'revenue': 5616, 'inventory': 1054}], 'isCompleted': False, 'priceActions': [0, 2, 2, 2, 2, 2, 2, 2, 2, 2, 2, 2, 2, 2]}, 'isCompleted': False, 'isStarted': True, 'isView': True}, 'status': 0}\n",
      "200\n",
      "{'student': {'name': 'Tong (Test)', 'email': 'tongwang@nus.edu.sg'}, 'data': {'competition_id': 'TEST_ROBOT', 'totalRounds': 6, 'isRobot': True, 'currentRound': 3, 'displayedRound': 3, 'clientRoundData': {'weeks': [{'price': 60, 'sales': 27, 'revenue': 1620, 'inventory': 1973}, {'price': 48, 'sales': 75, 'revenue': 3600, 'inventory': 1898}, {'price': 48, 'sales': 85, 'revenue': 4080, 'inventory': 1813}, {'price': 48, 'sales': 35, 'revenue': 1680, 'inventory': 1778}, {'price': 48, 'sales': 58, 'revenue': 2784, 'inventory': 1720}, {'price': 48, 'sales': 46, 'revenue': 2208, 'inventory': 1674}, {'price': 48, 'sales': 68, 'revenue': 3264, 'inventory': 1606}, {'price': 48, 'sales': 95, 'revenue': 4560, 'inventory': 1511}, {'price': 48, 'sales': 64, 'revenue': 3072, 'inventory': 1447}, {'price': 48, 'sales': 39, 'revenue': 1872, 'inventory': 1408}, {'price': 48, 'sales': 78, 'revenue': 3744, 'inventory': 1330}, {'price': 48, 'sales': 82, 'revenue': 3936, 'inventory': 1248}, {'price': 48, 'sales': 77, 'revenue': 3696, 'inventory': 1171}, {'price': 48, 'sales': 117, 'revenue': 5616, 'inventory': 1054}, {'price': 48, 'sales': 80, 'revenue': 3840, 'inventory': 974}, {'inventory': 0, 'price': 25, 'sales': 974, 'revenue': 24350}], 'isCompleted': True, 'optimal': {'revenue': 73922}, 'priceActions': [0, 2, 2, 2, 2, 2, 2, 2, 2, 2, 2, 2, 2, 2, 2]}, 'isCompleted': False, 'isStarted': True, 'isView': True}, 'status': 0}\n",
      "200\n",
      "{'student': {'name': 'Tong (Test)', 'email': 'tongwang@nus.edu.sg'}, 'data': {'competition_id': 'TEST_ROBOT', 'totalRounds': 6, 'isRobot': True, 'currentRound': 4, 'displayedRound': 4, 'clientRoundData': {'weeks': [{'price': 60, 'sales': 54, 'revenue': 3240, 'inventory': 1946}], 'isCompleted': False, 'priceActions': [0]}, 'isCompleted': False, 'isStarted': True, 'isView': True}, 'status': 0}\n",
      "200\n",
      "{'student': {'name': 'Tong (Test)', 'email': 'tongwang@nus.edu.sg'}, 'data': {'competition_id': 'TEST_ROBOT', 'totalRounds': 6, 'isRobot': True, 'currentRound': 4, 'displayedRound': 4, 'clientRoundData': {'weeks': [{'price': 60, 'sales': 54, 'revenue': 3240, 'inventory': 1946}, {'price': 48, 'sales': 156, 'revenue': 7488, 'inventory': 1790}], 'isCompleted': False, 'priceActions': [0, 2]}, 'isCompleted': False, 'isStarted': True, 'isView': True}, 'status': 0}\n",
      "200\n",
      "{'student': {'name': 'Tong (Test)', 'email': 'tongwang@nus.edu.sg'}, 'data': {'competition_id': 'TEST_ROBOT', 'totalRounds': 6, 'isRobot': True, 'currentRound': 4, 'displayedRound': 4, 'clientRoundData': {'weeks': [{'price': 60, 'sales': 54, 'revenue': 3240, 'inventory': 1946}, {'price': 48, 'sales': 156, 'revenue': 7488, 'inventory': 1790}, {'price': 48, 'sales': 180, 'revenue': 8640, 'inventory': 1610}], 'isCompleted': False, 'priceActions': [0, 2, 2]}, 'isCompleted': False, 'isStarted': True, 'isView': True}, 'status': 0}\n",
      "200\n",
      "{'student': {'name': 'Tong (Test)', 'email': 'tongwang@nus.edu.sg'}, 'data': {'competition_id': 'TEST_ROBOT', 'totalRounds': 6, 'isRobot': True, 'currentRound': 4, 'displayedRound': 4, 'clientRoundData': {'weeks': [{'price': 60, 'sales': 54, 'revenue': 3240, 'inventory': 1946}, {'price': 48, 'sales': 156, 'revenue': 7488, 'inventory': 1790}, {'price': 48, 'sales': 180, 'revenue': 8640, 'inventory': 1610}, {'price': 48, 'sales': 177, 'revenue': 8496, 'inventory': 1433}], 'isCompleted': False, 'priceActions': [0, 2, 2, 2]}, 'isCompleted': False, 'isStarted': True, 'isView': True}, 'status': 0}\n",
      "200\n",
      "{'student': {'name': 'Tong (Test)', 'email': 'tongwang@nus.edu.sg'}, 'data': {'competition_id': 'TEST_ROBOT', 'totalRounds': 6, 'isRobot': True, 'currentRound': 4, 'displayedRound': 4, 'clientRoundData': {'weeks': [{'price': 60, 'sales': 54, 'revenue': 3240, 'inventory': 1946}, {'price': 48, 'sales': 156, 'revenue': 7488, 'inventory': 1790}, {'price': 48, 'sales': 180, 'revenue': 8640, 'inventory': 1610}, {'price': 48, 'sales': 177, 'revenue': 8496, 'inventory': 1433}, {'price': 48, 'sales': 210, 'revenue': 10080, 'inventory': 1223}], 'isCompleted': False, 'priceActions': [0, 2, 2, 2, 2]}, 'isCompleted': False, 'isStarted': True, 'isView': True}, 'status': 0}\n",
      "200\n",
      "{'student': {'name': 'Tong (Test)', 'email': 'tongwang@nus.edu.sg'}, 'data': {'competition_id': 'TEST_ROBOT', 'totalRounds': 6, 'isRobot': True, 'currentRound': 4, 'displayedRound': 4, 'clientRoundData': {'weeks': [{'price': 60, 'sales': 54, 'revenue': 3240, 'inventory': 1946}, {'price': 48, 'sales': 156, 'revenue': 7488, 'inventory': 1790}, {'price': 48, 'sales': 180, 'revenue': 8640, 'inventory': 1610}, {'price': 48, 'sales': 177, 'revenue': 8496, 'inventory': 1433}, {'price': 48, 'sales': 210, 'revenue': 10080, 'inventory': 1223}, {'price': 48, 'sales': 152, 'revenue': 7296, 'inventory': 1071}], 'isCompleted': False, 'priceActions': [0, 2, 2, 2, 2, 2]}, 'isCompleted': False, 'isStarted': True, 'isView': True}, 'status': 0}\n",
      "200\n",
      "{'student': {'name': 'Tong (Test)', 'email': 'tongwang@nus.edu.sg'}, 'data': {'competition_id': 'TEST_ROBOT', 'totalRounds': 6, 'isRobot': True, 'currentRound': 4, 'displayedRound': 4, 'clientRoundData': {'weeks': [{'price': 60, 'sales': 54, 'revenue': 3240, 'inventory': 1946}, {'price': 48, 'sales': 156, 'revenue': 7488, 'inventory': 1790}, {'price': 48, 'sales': 180, 'revenue': 8640, 'inventory': 1610}, {'price': 48, 'sales': 177, 'revenue': 8496, 'inventory': 1433}, {'price': 48, 'sales': 210, 'revenue': 10080, 'inventory': 1223}, {'price': 48, 'sales': 152, 'revenue': 7296, 'inventory': 1071}, {'price': 48, 'sales': 212, 'revenue': 10176, 'inventory': 859}], 'isCompleted': False, 'priceActions': [0, 2, 2, 2, 2, 2, 2]}, 'isCompleted': False, 'isStarted': True, 'isView': True}, 'status': 0}\n",
      "200\n",
      "{'student': {'name': 'Tong (Test)', 'email': 'tongwang@nus.edu.sg'}, 'data': {'competition_id': 'TEST_ROBOT', 'totalRounds': 6, 'isRobot': True, 'currentRound': 4, 'displayedRound': 4, 'clientRoundData': {'weeks': [{'price': 60, 'sales': 54, 'revenue': 3240, 'inventory': 1946}, {'price': 48, 'sales': 156, 'revenue': 7488, 'inventory': 1790}, {'price': 48, 'sales': 180, 'revenue': 8640, 'inventory': 1610}, {'price': 48, 'sales': 177, 'revenue': 8496, 'inventory': 1433}, {'price': 48, 'sales': 210, 'revenue': 10080, 'inventory': 1223}, {'price': 48, 'sales': 152, 'revenue': 7296, 'inventory': 1071}, {'price': 48, 'sales': 212, 'revenue': 10176, 'inventory': 859}, {'price': 48, 'sales': 231, 'revenue': 11088, 'inventory': 628}], 'isCompleted': False, 'priceActions': [0, 2, 2, 2, 2, 2, 2, 2]}, 'isCompleted': False, 'isStarted': True, 'isView': True}, 'status': 0}\n",
      "200\n",
      "{'student': {'name': 'Tong (Test)', 'email': 'tongwang@nus.edu.sg'}, 'data': {'competition_id': 'TEST_ROBOT', 'totalRounds': 6, 'isRobot': True, 'currentRound': 4, 'displayedRound': 4, 'clientRoundData': {'weeks': [{'price': 60, 'sales': 54, 'revenue': 3240, 'inventory': 1946}, {'price': 48, 'sales': 156, 'revenue': 7488, 'inventory': 1790}, {'price': 48, 'sales': 180, 'revenue': 8640, 'inventory': 1610}, {'price': 48, 'sales': 177, 'revenue': 8496, 'inventory': 1433}, {'price': 48, 'sales': 210, 'revenue': 10080, 'inventory': 1223}, {'price': 48, 'sales': 152, 'revenue': 7296, 'inventory': 1071}, {'price': 48, 'sales': 212, 'revenue': 10176, 'inventory': 859}, {'price': 48, 'sales': 231, 'revenue': 11088, 'inventory': 628}, {'price': 48, 'sales': 210, 'revenue': 10080, 'inventory': 418}], 'isCompleted': False, 'priceActions': [0, 2, 2, 2, 2, 2, 2, 2, 2]}, 'isCompleted': False, 'isStarted': True, 'isView': True}, 'status': 0}\n",
      "200\n",
      "{'student': {'name': 'Tong (Test)', 'email': 'tongwang@nus.edu.sg'}, 'data': {'competition_id': 'TEST_ROBOT', 'totalRounds': 6, 'isRobot': True, 'currentRound': 4, 'displayedRound': 4, 'clientRoundData': {'weeks': [{'price': 60, 'sales': 54, 'revenue': 3240, 'inventory': 1946}, {'price': 48, 'sales': 156, 'revenue': 7488, 'inventory': 1790}, {'price': 48, 'sales': 180, 'revenue': 8640, 'inventory': 1610}, {'price': 48, 'sales': 177, 'revenue': 8496, 'inventory': 1433}, {'price': 48, 'sales': 210, 'revenue': 10080, 'inventory': 1223}, {'price': 48, 'sales': 152, 'revenue': 7296, 'inventory': 1071}, {'price': 48, 'sales': 212, 'revenue': 10176, 'inventory': 859}, {'price': 48, 'sales': 231, 'revenue': 11088, 'inventory': 628}, {'price': 48, 'sales': 210, 'revenue': 10080, 'inventory': 418}, {'price': 48, 'sales': 246, 'revenue': 11808, 'inventory': 172}], 'isCompleted': False, 'priceActions': [0, 2, 2, 2, 2, 2, 2, 2, 2, 2]}, 'isCompleted': False, 'isStarted': True, 'isView': True}, 'status': 0}\n",
      "200\n",
      "{'student': {'name': 'Tong (Test)', 'email': 'tongwang@nus.edu.sg'}, 'data': {'competition_id': 'TEST_ROBOT', 'totalRounds': 6, 'isRobot': True, 'currentRound': 4, 'displayedRound': 4, 'clientRoundData': {'weeks': [{'price': 60, 'sales': 54, 'revenue': 3240, 'inventory': 1946}, {'price': 48, 'sales': 156, 'revenue': 7488, 'inventory': 1790}, {'price': 48, 'sales': 180, 'revenue': 8640, 'inventory': 1610}, {'price': 48, 'sales': 177, 'revenue': 8496, 'inventory': 1433}, {'price': 48, 'sales': 210, 'revenue': 10080, 'inventory': 1223}, {'price': 48, 'sales': 152, 'revenue': 7296, 'inventory': 1071}, {'price': 48, 'sales': 212, 'revenue': 10176, 'inventory': 859}, {'price': 48, 'sales': 231, 'revenue': 11088, 'inventory': 628}, {'price': 48, 'sales': 210, 'revenue': 10080, 'inventory': 418}, {'price': 48, 'sales': 246, 'revenue': 11808, 'inventory': 172}, {'price': 48, 'sales': 114, 'revenue': 5472, 'inventory': 58}], 'isCompleted': False, 'priceActions': [0, 2, 2, 2, 2, 2, 2, 2, 2, 2, 2]}, 'isCompleted': False, 'isStarted': True, 'isView': True}, 'status': 0}\n",
      "200\n",
      "{'student': {'name': 'Tong (Test)', 'email': 'tongwang@nus.edu.sg'}, 'data': {'competition_id': 'TEST_ROBOT', 'totalRounds': 6, 'isRobot': True, 'currentRound': 4, 'displayedRound': 4, 'clientRoundData': {'weeks': [{'price': 60, 'sales': 54, 'revenue': 3240, 'inventory': 1946}, {'price': 48, 'sales': 156, 'revenue': 7488, 'inventory': 1790}, {'price': 48, 'sales': 180, 'revenue': 8640, 'inventory': 1610}, {'price': 48, 'sales': 177, 'revenue': 8496, 'inventory': 1433}, {'price': 48, 'sales': 210, 'revenue': 10080, 'inventory': 1223}, {'price': 48, 'sales': 152, 'revenue': 7296, 'inventory': 1071}, {'price': 48, 'sales': 212, 'revenue': 10176, 'inventory': 859}, {'price': 48, 'sales': 231, 'revenue': 11088, 'inventory': 628}, {'price': 48, 'sales': 210, 'revenue': 10080, 'inventory': 418}, {'price': 48, 'sales': 246, 'revenue': 11808, 'inventory': 172}, {'price': 48, 'sales': 114, 'revenue': 5472, 'inventory': 58}, {'price': 48, 'sales': 58, 'revenue': 2784, 'inventory': 0}, {'price': 48, 'sales': 0, 'revenue': 0, 'inventory': 0}, {'price': 48, 'sales': 0, 'revenue': 0, 'inventory': 0}, {'price': 48, 'sales': 0, 'revenue': 0, 'inventory': 0}, {'inventory': 0, 'price': 25, 'sales': 0, 'revenue': 0}], 'isCompleted': True, 'optimal': {'revenue': 108864}, 'priceActions': [0, 2, 2, 2, 2, 2, 2, 2, 2, 2, 2, 2, 2, 2, 2]}, 'isCompleted': False, 'isStarted': True, 'isView': True}, 'status': 0}\n",
      "200\n",
      "{'student': {'name': 'Tong (Test)', 'email': 'tongwang@nus.edu.sg'}, 'data': {'competition_id': 'TEST_ROBOT', 'totalRounds': 6, 'isRobot': True, 'currentRound': 5, 'displayedRound': 5, 'clientRoundData': {'weeks': [{'price': 60, 'sales': 59, 'revenue': 3540, 'inventory': 1941}], 'isCompleted': False, 'priceActions': [0]}, 'isCompleted': False, 'isStarted': True, 'isView': True}, 'status': 0}\n",
      "200\n",
      "{'student': {'name': 'Tong (Test)', 'email': 'tongwang@nus.edu.sg'}, 'data': {'competition_id': 'TEST_ROBOT', 'totalRounds': 6, 'isRobot': True, 'currentRound': 5, 'displayedRound': 5, 'clientRoundData': {'weeks': [{'price': 60, 'sales': 59, 'revenue': 3540, 'inventory': 1941}, {'price': 48, 'sales': 145, 'revenue': 6960, 'inventory': 1796}], 'isCompleted': False, 'priceActions': [0, 2]}, 'isCompleted': False, 'isStarted': True, 'isView': True}, 'status': 0}\n",
      "200\n",
      "{'student': {'name': 'Tong (Test)', 'email': 'tongwang@nus.edu.sg'}, 'data': {'competition_id': 'TEST_ROBOT', 'totalRounds': 6, 'isRobot': True, 'currentRound': 5, 'displayedRound': 5, 'clientRoundData': {'weeks': [{'price': 60, 'sales': 59, 'revenue': 3540, 'inventory': 1941}, {'price': 48, 'sales': 145, 'revenue': 6960, 'inventory': 1796}, {'price': 48, 'sales': 122, 'revenue': 5856, 'inventory': 1674}], 'isCompleted': False, 'priceActions': [0, 2, 2]}, 'isCompleted': False, 'isStarted': True, 'isView': True}, 'status': 0}\n",
      "200\n",
      "{'student': {'name': 'Tong (Test)', 'email': 'tongwang@nus.edu.sg'}, 'data': {'competition_id': 'TEST_ROBOT', 'totalRounds': 6, 'isRobot': True, 'currentRound': 5, 'displayedRound': 5, 'clientRoundData': {'weeks': [{'price': 60, 'sales': 59, 'revenue': 3540, 'inventory': 1941}, {'price': 48, 'sales': 145, 'revenue': 6960, 'inventory': 1796}, {'price': 48, 'sales': 122, 'revenue': 5856, 'inventory': 1674}, {'price': 48, 'sales': 144, 'revenue': 6912, 'inventory': 1530}], 'isCompleted': False, 'priceActions': [0, 2, 2, 2]}, 'isCompleted': False, 'isStarted': True, 'isView': True}, 'status': 0}\n",
      "200\n",
      "{'student': {'name': 'Tong (Test)', 'email': 'tongwang@nus.edu.sg'}, 'data': {'competition_id': 'TEST_ROBOT', 'totalRounds': 6, 'isRobot': True, 'currentRound': 5, 'displayedRound': 5, 'clientRoundData': {'weeks': [{'price': 60, 'sales': 59, 'revenue': 3540, 'inventory': 1941}, {'price': 48, 'sales': 145, 'revenue': 6960, 'inventory': 1796}, {'price': 48, 'sales': 122, 'revenue': 5856, 'inventory': 1674}, {'price': 48, 'sales': 144, 'revenue': 6912, 'inventory': 1530}, {'price': 48, 'sales': 85, 'revenue': 4080, 'inventory': 1445}], 'isCompleted': False, 'priceActions': [0, 2, 2, 2, 2]}, 'isCompleted': False, 'isStarted': True, 'isView': True}, 'status': 0}\n",
      "200\n",
      "{'student': {'name': 'Tong (Test)', 'email': 'tongwang@nus.edu.sg'}, 'data': {'competition_id': 'TEST_ROBOT', 'totalRounds': 6, 'isRobot': True, 'currentRound': 5, 'displayedRound': 5, 'clientRoundData': {'weeks': [{'price': 60, 'sales': 59, 'revenue': 3540, 'inventory': 1941}, {'price': 48, 'sales': 145, 'revenue': 6960, 'inventory': 1796}, {'price': 48, 'sales': 122, 'revenue': 5856, 'inventory': 1674}, {'price': 48, 'sales': 144, 'revenue': 6912, 'inventory': 1530}, {'price': 48, 'sales': 85, 'revenue': 4080, 'inventory': 1445}, {'price': 48, 'sales': 119, 'revenue': 5712, 'inventory': 1326}], 'isCompleted': False, 'priceActions': [0, 2, 2, 2, 2, 2]}, 'isCompleted': False, 'isStarted': True, 'isView': True}, 'status': 0}\n",
      "200\n",
      "{'student': {'name': 'Tong (Test)', 'email': 'tongwang@nus.edu.sg'}, 'data': {'competition_id': 'TEST_ROBOT', 'totalRounds': 6, 'isRobot': True, 'currentRound': 5, 'displayedRound': 5, 'clientRoundData': {'weeks': [{'price': 60, 'sales': 59, 'revenue': 3540, 'inventory': 1941}, {'price': 48, 'sales': 145, 'revenue': 6960, 'inventory': 1796}, {'price': 48, 'sales': 122, 'revenue': 5856, 'inventory': 1674}, {'price': 48, 'sales': 144, 'revenue': 6912, 'inventory': 1530}, {'price': 48, 'sales': 85, 'revenue': 4080, 'inventory': 1445}, {'price': 48, 'sales': 119, 'revenue': 5712, 'inventory': 1326}, {'price': 48, 'sales': 94, 'revenue': 4512, 'inventory': 1232}], 'isCompleted': False, 'priceActions': [0, 2, 2, 2, 2, 2, 2]}, 'isCompleted': False, 'isStarted': True, 'isView': True}, 'status': 0}\n",
      "200\n",
      "{'student': {'name': 'Tong (Test)', 'email': 'tongwang@nus.edu.sg'}, 'data': {'competition_id': 'TEST_ROBOT', 'totalRounds': 6, 'isRobot': True, 'currentRound': 5, 'displayedRound': 5, 'clientRoundData': {'weeks': [{'price': 60, 'sales': 59, 'revenue': 3540, 'inventory': 1941}, {'price': 48, 'sales': 145, 'revenue': 6960, 'inventory': 1796}, {'price': 48, 'sales': 122, 'revenue': 5856, 'inventory': 1674}, {'price': 48, 'sales': 144, 'revenue': 6912, 'inventory': 1530}, {'price': 48, 'sales': 85, 'revenue': 4080, 'inventory': 1445}, {'price': 48, 'sales': 119, 'revenue': 5712, 'inventory': 1326}, {'price': 48, 'sales': 94, 'revenue': 4512, 'inventory': 1232}, {'price': 48, 'sales': 218, 'revenue': 10464, 'inventory': 1014}], 'isCompleted': False, 'priceActions': [0, 2, 2, 2, 2, 2, 2, 2]}, 'isCompleted': False, 'isStarted': True, 'isView': True}, 'status': 0}\n",
      "200\n",
      "{'student': {'name': 'Tong (Test)', 'email': 'tongwang@nus.edu.sg'}, 'data': {'competition_id': 'TEST_ROBOT', 'totalRounds': 6, 'isRobot': True, 'currentRound': 5, 'displayedRound': 5, 'clientRoundData': {'weeks': [{'price': 60, 'sales': 59, 'revenue': 3540, 'inventory': 1941}, {'price': 48, 'sales': 145, 'revenue': 6960, 'inventory': 1796}, {'price': 48, 'sales': 122, 'revenue': 5856, 'inventory': 1674}, {'price': 48, 'sales': 144, 'revenue': 6912, 'inventory': 1530}, {'price': 48, 'sales': 85, 'revenue': 4080, 'inventory': 1445}, {'price': 48, 'sales': 119, 'revenue': 5712, 'inventory': 1326}, {'price': 48, 'sales': 94, 'revenue': 4512, 'inventory': 1232}, {'price': 48, 'sales': 218, 'revenue': 10464, 'inventory': 1014}, {'price': 48, 'sales': 86, 'revenue': 4128, 'inventory': 928}], 'isCompleted': False, 'priceActions': [0, 2, 2, 2, 2, 2, 2, 2, 2]}, 'isCompleted': False, 'isStarted': True, 'isView': True}, 'status': 0}\n",
      "200\n",
      "{'student': {'name': 'Tong (Test)', 'email': 'tongwang@nus.edu.sg'}, 'data': {'competition_id': 'TEST_ROBOT', 'totalRounds': 6, 'isRobot': True, 'currentRound': 5, 'displayedRound': 5, 'clientRoundData': {'weeks': [{'price': 60, 'sales': 59, 'revenue': 3540, 'inventory': 1941}, {'price': 48, 'sales': 145, 'revenue': 6960, 'inventory': 1796}, {'price': 48, 'sales': 122, 'revenue': 5856, 'inventory': 1674}, {'price': 48, 'sales': 144, 'revenue': 6912, 'inventory': 1530}, {'price': 48, 'sales': 85, 'revenue': 4080, 'inventory': 1445}, {'price': 48, 'sales': 119, 'revenue': 5712, 'inventory': 1326}, {'price': 48, 'sales': 94, 'revenue': 4512, 'inventory': 1232}, {'price': 48, 'sales': 218, 'revenue': 10464, 'inventory': 1014}, {'price': 48, 'sales': 86, 'revenue': 4128, 'inventory': 928}, {'price': 48, 'sales': 203, 'revenue': 9744, 'inventory': 725}], 'isCompleted': False, 'priceActions': [0, 2, 2, 2, 2, 2, 2, 2, 2, 2]}, 'isCompleted': False, 'isStarted': True, 'isView': True}, 'status': 0}\n",
      "200\n",
      "{'student': {'name': 'Tong (Test)', 'email': 'tongwang@nus.edu.sg'}, 'data': {'competition_id': 'TEST_ROBOT', 'totalRounds': 6, 'isRobot': True, 'currentRound': 5, 'displayedRound': 5, 'clientRoundData': {'weeks': [{'price': 60, 'sales': 59, 'revenue': 3540, 'inventory': 1941}, {'price': 48, 'sales': 145, 'revenue': 6960, 'inventory': 1796}, {'price': 48, 'sales': 122, 'revenue': 5856, 'inventory': 1674}, {'price': 48, 'sales': 144, 'revenue': 6912, 'inventory': 1530}, {'price': 48, 'sales': 85, 'revenue': 4080, 'inventory': 1445}, {'price': 48, 'sales': 119, 'revenue': 5712, 'inventory': 1326}, {'price': 48, 'sales': 94, 'revenue': 4512, 'inventory': 1232}, {'price': 48, 'sales': 218, 'revenue': 10464, 'inventory': 1014}, {'price': 48, 'sales': 86, 'revenue': 4128, 'inventory': 928}, {'price': 48, 'sales': 203, 'revenue': 9744, 'inventory': 725}, {'price': 48, 'sales': 123, 'revenue': 5904, 'inventory': 602}], 'isCompleted': False, 'priceActions': [0, 2, 2, 2, 2, 2, 2, 2, 2, 2, 2]}, 'isCompleted': False, 'isStarted': True, 'isView': True}, 'status': 0}\n",
      "200\n",
      "{'student': {'name': 'Tong (Test)', 'email': 'tongwang@nus.edu.sg'}, 'data': {'competition_id': 'TEST_ROBOT', 'totalRounds': 6, 'isRobot': True, 'currentRound': 5, 'displayedRound': 5, 'clientRoundData': {'weeks': [{'price': 60, 'sales': 59, 'revenue': 3540, 'inventory': 1941}, {'price': 48, 'sales': 145, 'revenue': 6960, 'inventory': 1796}, {'price': 48, 'sales': 122, 'revenue': 5856, 'inventory': 1674}, {'price': 48, 'sales': 144, 'revenue': 6912, 'inventory': 1530}, {'price': 48, 'sales': 85, 'revenue': 4080, 'inventory': 1445}, {'price': 48, 'sales': 119, 'revenue': 5712, 'inventory': 1326}, {'price': 48, 'sales': 94, 'revenue': 4512, 'inventory': 1232}, {'price': 48, 'sales': 218, 'revenue': 10464, 'inventory': 1014}, {'price': 48, 'sales': 86, 'revenue': 4128, 'inventory': 928}, {'price': 48, 'sales': 203, 'revenue': 9744, 'inventory': 725}, {'price': 48, 'sales': 123, 'revenue': 5904, 'inventory': 602}, {'price': 48, 'sales': 127, 'revenue': 6096, 'inventory': 475}], 'isCompleted': False, 'priceActions': [0, 2, 2, 2, 2, 2, 2, 2, 2, 2, 2, 2]}, 'isCompleted': False, 'isStarted': True, 'isView': True}, 'status': 0}\n",
      "200\n",
      "{'student': {'name': 'Tong (Test)', 'email': 'tongwang@nus.edu.sg'}, 'data': {'competition_id': 'TEST_ROBOT', 'totalRounds': 6, 'isRobot': True, 'currentRound': 5, 'displayedRound': 5, 'clientRoundData': {'weeks': [{'price': 60, 'sales': 59, 'revenue': 3540, 'inventory': 1941}, {'price': 48, 'sales': 145, 'revenue': 6960, 'inventory': 1796}, {'price': 48, 'sales': 122, 'revenue': 5856, 'inventory': 1674}, {'price': 48, 'sales': 144, 'revenue': 6912, 'inventory': 1530}, {'price': 48, 'sales': 85, 'revenue': 4080, 'inventory': 1445}, {'price': 48, 'sales': 119, 'revenue': 5712, 'inventory': 1326}, {'price': 48, 'sales': 94, 'revenue': 4512, 'inventory': 1232}, {'price': 48, 'sales': 218, 'revenue': 10464, 'inventory': 1014}, {'price': 48, 'sales': 86, 'revenue': 4128, 'inventory': 928}, {'price': 48, 'sales': 203, 'revenue': 9744, 'inventory': 725}, {'price': 48, 'sales': 123, 'revenue': 5904, 'inventory': 602}, {'price': 48, 'sales': 127, 'revenue': 6096, 'inventory': 475}, {'price': 48, 'sales': 72, 'revenue': 3456, 'inventory': 403}], 'isCompleted': False, 'priceActions': [0, 2, 2, 2, 2, 2, 2, 2, 2, 2, 2, 2, 2]}, 'isCompleted': False, 'isStarted': True, 'isView': True}, 'status': 0}\n",
      "200\n",
      "{'student': {'name': 'Tong (Test)', 'email': 'tongwang@nus.edu.sg'}, 'data': {'competition_id': 'TEST_ROBOT', 'totalRounds': 6, 'isRobot': True, 'currentRound': 5, 'displayedRound': 5, 'clientRoundData': {'weeks': [{'price': 60, 'sales': 59, 'revenue': 3540, 'inventory': 1941}, {'price': 48, 'sales': 145, 'revenue': 6960, 'inventory': 1796}, {'price': 48, 'sales': 122, 'revenue': 5856, 'inventory': 1674}, {'price': 48, 'sales': 144, 'revenue': 6912, 'inventory': 1530}, {'price': 48, 'sales': 85, 'revenue': 4080, 'inventory': 1445}, {'price': 48, 'sales': 119, 'revenue': 5712, 'inventory': 1326}, {'price': 48, 'sales': 94, 'revenue': 4512, 'inventory': 1232}, {'price': 48, 'sales': 218, 'revenue': 10464, 'inventory': 1014}, {'price': 48, 'sales': 86, 'revenue': 4128, 'inventory': 928}, {'price': 48, 'sales': 203, 'revenue': 9744, 'inventory': 725}, {'price': 48, 'sales': 123, 'revenue': 5904, 'inventory': 602}, {'price': 48, 'sales': 127, 'revenue': 6096, 'inventory': 475}, {'price': 48, 'sales': 72, 'revenue': 3456, 'inventory': 403}, {'price': 48, 'sales': 128, 'revenue': 6144, 'inventory': 275}], 'isCompleted': False, 'priceActions': [0, 2, 2, 2, 2, 2, 2, 2, 2, 2, 2, 2, 2, 2]}, 'isCompleted': False, 'isStarted': True, 'isView': True}, 'status': 0}\n",
      "200\n",
      "{'student': {'name': 'Tong (Test)', 'email': 'tongwang@nus.edu.sg'}, 'data': {'competition_id': 'TEST_ROBOT', 'totalRounds': 6, 'isRobot': True, 'currentRound': 5, 'displayedRound': 5, 'clientRoundData': {'weeks': [{'price': 60, 'sales': 59, 'revenue': 3540, 'inventory': 1941}, {'price': 48, 'sales': 145, 'revenue': 6960, 'inventory': 1796}, {'price': 48, 'sales': 122, 'revenue': 5856, 'inventory': 1674}, {'price': 48, 'sales': 144, 'revenue': 6912, 'inventory': 1530}, {'price': 48, 'sales': 85, 'revenue': 4080, 'inventory': 1445}, {'price': 48, 'sales': 119, 'revenue': 5712, 'inventory': 1326}, {'price': 48, 'sales': 94, 'revenue': 4512, 'inventory': 1232}, {'price': 48, 'sales': 218, 'revenue': 10464, 'inventory': 1014}, {'price': 48, 'sales': 86, 'revenue': 4128, 'inventory': 928}, {'price': 48, 'sales': 203, 'revenue': 9744, 'inventory': 725}, {'price': 48, 'sales': 123, 'revenue': 5904, 'inventory': 602}, {'price': 48, 'sales': 127, 'revenue': 6096, 'inventory': 475}, {'price': 48, 'sales': 72, 'revenue': 3456, 'inventory': 403}, {'price': 48, 'sales': 128, 'revenue': 6144, 'inventory': 275}, {'price': 48, 'sales': 82, 'revenue': 3936, 'inventory': 193}, {'inventory': 0, 'price': 25, 'sales': 193, 'revenue': 4825}], 'isCompleted': True, 'optimal': {'revenue': 92269}, 'priceActions': [0, 2, 2, 2, 2, 2, 2, 2, 2, 2, 2, 2, 2, 2, 2]}, 'isCompleted': False, 'isStarted': True, 'isView': True}, 'status': 0}\n",
      "200\n",
      "{'student': {'name': 'Tong (Test)', 'email': 'tongwang@nus.edu.sg'}, 'data': {'competition_id': 'TEST_ROBOT', 'totalRounds': 6, 'isRobot': True, 'currentRound': 6, 'displayedRound': 6, 'clientRoundData': {'weeks': [{'price': 60, 'sales': 37, 'revenue': 2220, 'inventory': 1963}], 'isCompleted': False, 'priceActions': [0]}, 'isCompleted': False, 'isStarted': True, 'isView': True}, 'status': 0}\n",
      "200\n",
      "{'student': {'name': 'Tong (Test)', 'email': 'tongwang@nus.edu.sg'}, 'data': {'competition_id': 'TEST_ROBOT', 'totalRounds': 6, 'isRobot': True, 'currentRound': 6, 'displayedRound': 6, 'clientRoundData': {'weeks': [{'price': 60, 'sales': 37, 'revenue': 2220, 'inventory': 1963}, {'price': 48, 'sales': 97, 'revenue': 4656, 'inventory': 1866}], 'isCompleted': False, 'priceActions': [0, 2]}, 'isCompleted': False, 'isStarted': True, 'isView': True}, 'status': 0}\n",
      "200\n",
      "{'student': {'name': 'Tong (Test)', 'email': 'tongwang@nus.edu.sg'}, 'data': {'competition_id': 'TEST_ROBOT', 'totalRounds': 6, 'isRobot': True, 'currentRound': 6, 'displayedRound': 6, 'clientRoundData': {'weeks': [{'price': 60, 'sales': 37, 'revenue': 2220, 'inventory': 1963}, {'price': 48, 'sales': 97, 'revenue': 4656, 'inventory': 1866}, {'price': 48, 'sales': 67, 'revenue': 3216, 'inventory': 1799}], 'isCompleted': False, 'priceActions': [0, 2, 2]}, 'isCompleted': False, 'isStarted': True, 'isView': True}, 'status': 0}\n",
      "200\n",
      "{'student': {'name': 'Tong (Test)', 'email': 'tongwang@nus.edu.sg'}, 'data': {'competition_id': 'TEST_ROBOT', 'totalRounds': 6, 'isRobot': True, 'currentRound': 6, 'displayedRound': 6, 'clientRoundData': {'weeks': [{'price': 60, 'sales': 37, 'revenue': 2220, 'inventory': 1963}, {'price': 48, 'sales': 97, 'revenue': 4656, 'inventory': 1866}, {'price': 48, 'sales': 67, 'revenue': 3216, 'inventory': 1799}, {'price': 48, 'sales': 81, 'revenue': 3888, 'inventory': 1718}], 'isCompleted': False, 'priceActions': [0, 2, 2, 2]}, 'isCompleted': False, 'isStarted': True, 'isView': True}, 'status': 0}\n",
      "200\n",
      "{'student': {'name': 'Tong (Test)', 'email': 'tongwang@nus.edu.sg'}, 'data': {'competition_id': 'TEST_ROBOT', 'totalRounds': 6, 'isRobot': True, 'currentRound': 6, 'displayedRound': 6, 'clientRoundData': {'weeks': [{'price': 60, 'sales': 37, 'revenue': 2220, 'inventory': 1963}, {'price': 48, 'sales': 97, 'revenue': 4656, 'inventory': 1866}, {'price': 48, 'sales': 67, 'revenue': 3216, 'inventory': 1799}, {'price': 48, 'sales': 81, 'revenue': 3888, 'inventory': 1718}, {'price': 48, 'sales': 116, 'revenue': 5568, 'inventory': 1602}], 'isCompleted': False, 'priceActions': [0, 2, 2, 2, 2]}, 'isCompleted': False, 'isStarted': True, 'isView': True}, 'status': 0}\n",
      "200\n",
      "{'student': {'name': 'Tong (Test)', 'email': 'tongwang@nus.edu.sg'}, 'data': {'competition_id': 'TEST_ROBOT', 'totalRounds': 6, 'isRobot': True, 'currentRound': 6, 'displayedRound': 6, 'clientRoundData': {'weeks': [{'price': 60, 'sales': 37, 'revenue': 2220, 'inventory': 1963}, {'price': 48, 'sales': 97, 'revenue': 4656, 'inventory': 1866}, {'price': 48, 'sales': 67, 'revenue': 3216, 'inventory': 1799}, {'price': 48, 'sales': 81, 'revenue': 3888, 'inventory': 1718}, {'price': 48, 'sales': 116, 'revenue': 5568, 'inventory': 1602}, {'price': 48, 'sales': 124, 'revenue': 5952, 'inventory': 1478}], 'isCompleted': False, 'priceActions': [0, 2, 2, 2, 2, 2]}, 'isCompleted': False, 'isStarted': True, 'isView': True}, 'status': 0}\n",
      "200\n",
      "{'student': {'name': 'Tong (Test)', 'email': 'tongwang@nus.edu.sg'}, 'data': {'competition_id': 'TEST_ROBOT', 'totalRounds': 6, 'isRobot': True, 'currentRound': 6, 'displayedRound': 6, 'clientRoundData': {'weeks': [{'price': 60, 'sales': 37, 'revenue': 2220, 'inventory': 1963}, {'price': 48, 'sales': 97, 'revenue': 4656, 'inventory': 1866}, {'price': 48, 'sales': 67, 'revenue': 3216, 'inventory': 1799}, {'price': 48, 'sales': 81, 'revenue': 3888, 'inventory': 1718}, {'price': 48, 'sales': 116, 'revenue': 5568, 'inventory': 1602}, {'price': 48, 'sales': 124, 'revenue': 5952, 'inventory': 1478}, {'price': 48, 'sales': 109, 'revenue': 5232, 'inventory': 1369}], 'isCompleted': False, 'priceActions': [0, 2, 2, 2, 2, 2, 2]}, 'isCompleted': False, 'isStarted': True, 'isView': True}, 'status': 0}\n",
      "200\n",
      "{'student': {'name': 'Tong (Test)', 'email': 'tongwang@nus.edu.sg'}, 'data': {'competition_id': 'TEST_ROBOT', 'totalRounds': 6, 'isRobot': True, 'currentRound': 6, 'displayedRound': 6, 'clientRoundData': {'weeks': [{'price': 60, 'sales': 37, 'revenue': 2220, 'inventory': 1963}, {'price': 48, 'sales': 97, 'revenue': 4656, 'inventory': 1866}, {'price': 48, 'sales': 67, 'revenue': 3216, 'inventory': 1799}, {'price': 48, 'sales': 81, 'revenue': 3888, 'inventory': 1718}, {'price': 48, 'sales': 116, 'revenue': 5568, 'inventory': 1602}, {'price': 48, 'sales': 124, 'revenue': 5952, 'inventory': 1478}, {'price': 48, 'sales': 109, 'revenue': 5232, 'inventory': 1369}, {'price': 48, 'sales': 103, 'revenue': 4944, 'inventory': 1266}], 'isCompleted': False, 'priceActions': [0, 2, 2, 2, 2, 2, 2, 2]}, 'isCompleted': False, 'isStarted': True, 'isView': True}, 'status': 0}\n",
      "200\n",
      "{'student': {'name': 'Tong (Test)', 'email': 'tongwang@nus.edu.sg'}, 'data': {'competition_id': 'TEST_ROBOT', 'totalRounds': 6, 'isRobot': True, 'currentRound': 6, 'displayedRound': 6, 'clientRoundData': {'weeks': [{'price': 60, 'sales': 37, 'revenue': 2220, 'inventory': 1963}, {'price': 48, 'sales': 97, 'revenue': 4656, 'inventory': 1866}, {'price': 48, 'sales': 67, 'revenue': 3216, 'inventory': 1799}, {'price': 48, 'sales': 81, 'revenue': 3888, 'inventory': 1718}, {'price': 48, 'sales': 116, 'revenue': 5568, 'inventory': 1602}, {'price': 48, 'sales': 124, 'revenue': 5952, 'inventory': 1478}, {'price': 48, 'sales': 109, 'revenue': 5232, 'inventory': 1369}, {'price': 48, 'sales': 103, 'revenue': 4944, 'inventory': 1266}, {'price': 48, 'sales': 62, 'revenue': 2976, 'inventory': 1204}], 'isCompleted': False, 'priceActions': [0, 2, 2, 2, 2, 2, 2, 2, 2]}, 'isCompleted': False, 'isStarted': True, 'isView': True}, 'status': 0}\n",
      "200\n",
      "{'student': {'name': 'Tong (Test)', 'email': 'tongwang@nus.edu.sg'}, 'data': {'competition_id': 'TEST_ROBOT', 'totalRounds': 6, 'isRobot': True, 'currentRound': 6, 'displayedRound': 6, 'clientRoundData': {'weeks': [{'price': 60, 'sales': 37, 'revenue': 2220, 'inventory': 1963}, {'price': 48, 'sales': 97, 'revenue': 4656, 'inventory': 1866}, {'price': 48, 'sales': 67, 'revenue': 3216, 'inventory': 1799}, {'price': 48, 'sales': 81, 'revenue': 3888, 'inventory': 1718}, {'price': 48, 'sales': 116, 'revenue': 5568, 'inventory': 1602}, {'price': 48, 'sales': 124, 'revenue': 5952, 'inventory': 1478}, {'price': 48, 'sales': 109, 'revenue': 5232, 'inventory': 1369}, {'price': 48, 'sales': 103, 'revenue': 4944, 'inventory': 1266}, {'price': 48, 'sales': 62, 'revenue': 2976, 'inventory': 1204}, {'price': 48, 'sales': 102, 'revenue': 4896, 'inventory': 1102}], 'isCompleted': False, 'priceActions': [0, 2, 2, 2, 2, 2, 2, 2, 2, 2]}, 'isCompleted': False, 'isStarted': True, 'isView': True}, 'status': 0}\n",
      "200\n",
      "{'student': {'name': 'Tong (Test)', 'email': 'tongwang@nus.edu.sg'}, 'data': {'competition_id': 'TEST_ROBOT', 'totalRounds': 6, 'isRobot': True, 'currentRound': 6, 'displayedRound': 6, 'clientRoundData': {'weeks': [{'price': 60, 'sales': 37, 'revenue': 2220, 'inventory': 1963}, {'price': 48, 'sales': 97, 'revenue': 4656, 'inventory': 1866}, {'price': 48, 'sales': 67, 'revenue': 3216, 'inventory': 1799}, {'price': 48, 'sales': 81, 'revenue': 3888, 'inventory': 1718}, {'price': 48, 'sales': 116, 'revenue': 5568, 'inventory': 1602}, {'price': 48, 'sales': 124, 'revenue': 5952, 'inventory': 1478}, {'price': 48, 'sales': 109, 'revenue': 5232, 'inventory': 1369}, {'price': 48, 'sales': 103, 'revenue': 4944, 'inventory': 1266}, {'price': 48, 'sales': 62, 'revenue': 2976, 'inventory': 1204}, {'price': 48, 'sales': 102, 'revenue': 4896, 'inventory': 1102}, {'price': 48, 'sales': 94, 'revenue': 4512, 'inventory': 1008}], 'isCompleted': False, 'priceActions': [0, 2, 2, 2, 2, 2, 2, 2, 2, 2, 2]}, 'isCompleted': False, 'isStarted': True, 'isView': True}, 'status': 0}\n",
      "200\n",
      "{'student': {'name': 'Tong (Test)', 'email': 'tongwang@nus.edu.sg'}, 'data': {'competition_id': 'TEST_ROBOT', 'totalRounds': 6, 'isRobot': True, 'currentRound': 6, 'displayedRound': 6, 'clientRoundData': {'weeks': [{'price': 60, 'sales': 37, 'revenue': 2220, 'inventory': 1963}, {'price': 48, 'sales': 97, 'revenue': 4656, 'inventory': 1866}, {'price': 48, 'sales': 67, 'revenue': 3216, 'inventory': 1799}, {'price': 48, 'sales': 81, 'revenue': 3888, 'inventory': 1718}, {'price': 48, 'sales': 116, 'revenue': 5568, 'inventory': 1602}, {'price': 48, 'sales': 124, 'revenue': 5952, 'inventory': 1478}, {'price': 48, 'sales': 109, 'revenue': 5232, 'inventory': 1369}, {'price': 48, 'sales': 103, 'revenue': 4944, 'inventory': 1266}, {'price': 48, 'sales': 62, 'revenue': 2976, 'inventory': 1204}, {'price': 48, 'sales': 102, 'revenue': 4896, 'inventory': 1102}, {'price': 48, 'sales': 94, 'revenue': 4512, 'inventory': 1008}, {'price': 48, 'sales': 57, 'revenue': 2736, 'inventory': 951}], 'isCompleted': False, 'priceActions': [0, 2, 2, 2, 2, 2, 2, 2, 2, 2, 2, 2]}, 'isCompleted': False, 'isStarted': True, 'isView': True}, 'status': 0}\n",
      "200\n",
      "{'student': {'name': 'Tong (Test)', 'email': 'tongwang@nus.edu.sg'}, 'data': {'competition_id': 'TEST_ROBOT', 'totalRounds': 6, 'isRobot': True, 'currentRound': 6, 'displayedRound': 6, 'clientRoundData': {'weeks': [{'price': 60, 'sales': 37, 'revenue': 2220, 'inventory': 1963}, {'price': 48, 'sales': 97, 'revenue': 4656, 'inventory': 1866}, {'price': 48, 'sales': 67, 'revenue': 3216, 'inventory': 1799}, {'price': 48, 'sales': 81, 'revenue': 3888, 'inventory': 1718}, {'price': 48, 'sales': 116, 'revenue': 5568, 'inventory': 1602}, {'price': 48, 'sales': 124, 'revenue': 5952, 'inventory': 1478}, {'price': 48, 'sales': 109, 'revenue': 5232, 'inventory': 1369}, {'price': 48, 'sales': 103, 'revenue': 4944, 'inventory': 1266}, {'price': 48, 'sales': 62, 'revenue': 2976, 'inventory': 1204}, {'price': 48, 'sales': 102, 'revenue': 4896, 'inventory': 1102}, {'price': 48, 'sales': 94, 'revenue': 4512, 'inventory': 1008}, {'price': 48, 'sales': 57, 'revenue': 2736, 'inventory': 951}, {'price': 48, 'sales': 49, 'revenue': 2352, 'inventory': 902}], 'isCompleted': False, 'priceActions': [0, 2, 2, 2, 2, 2, 2, 2, 2, 2, 2, 2, 2]}, 'isCompleted': False, 'isStarted': True, 'isView': True}, 'status': 0}\n",
      "200\n",
      "{'student': {'name': 'Tong (Test)', 'email': 'tongwang@nus.edu.sg'}, 'data': {'competition_id': 'TEST_ROBOT', 'totalRounds': 6, 'isRobot': True, 'currentRound': 6, 'displayedRound': 6, 'clientRoundData': {'weeks': [{'price': 60, 'sales': 37, 'revenue': 2220, 'inventory': 1963}, {'price': 48, 'sales': 97, 'revenue': 4656, 'inventory': 1866}, {'price': 48, 'sales': 67, 'revenue': 3216, 'inventory': 1799}, {'price': 48, 'sales': 81, 'revenue': 3888, 'inventory': 1718}, {'price': 48, 'sales': 116, 'revenue': 5568, 'inventory': 1602}, {'price': 48, 'sales': 124, 'revenue': 5952, 'inventory': 1478}, {'price': 48, 'sales': 109, 'revenue': 5232, 'inventory': 1369}, {'price': 48, 'sales': 103, 'revenue': 4944, 'inventory': 1266}, {'price': 48, 'sales': 62, 'revenue': 2976, 'inventory': 1204}, {'price': 48, 'sales': 102, 'revenue': 4896, 'inventory': 1102}, {'price': 48, 'sales': 94, 'revenue': 4512, 'inventory': 1008}, {'price': 48, 'sales': 57, 'revenue': 2736, 'inventory': 951}, {'price': 48, 'sales': 49, 'revenue': 2352, 'inventory': 902}, {'price': 48, 'sales': 96, 'revenue': 4608, 'inventory': 806}], 'isCompleted': False, 'priceActions': [0, 2, 2, 2, 2, 2, 2, 2, 2, 2, 2, 2, 2, 2]}, 'isCompleted': False, 'isStarted': True, 'isView': True}, 'status': 0}\n",
      "200\n",
      "{'student': {'name': 'Tong (Test)', 'email': 'tongwang@nus.edu.sg'}, 'data': {'competition_id': 'TEST_ROBOT', 'totalRounds': 6, 'isRobot': True, 'currentRound': 6, 'displayedRound': 6, 'clientRoundData': {'weeks': [{'price': 60, 'sales': 37, 'revenue': 2220, 'inventory': 1963}, {'price': 48, 'sales': 97, 'revenue': 4656, 'inventory': 1866}, {'price': 48, 'sales': 67, 'revenue': 3216, 'inventory': 1799}, {'price': 48, 'sales': 81, 'revenue': 3888, 'inventory': 1718}, {'price': 48, 'sales': 116, 'revenue': 5568, 'inventory': 1602}, {'price': 48, 'sales': 124, 'revenue': 5952, 'inventory': 1478}, {'price': 48, 'sales': 109, 'revenue': 5232, 'inventory': 1369}, {'price': 48, 'sales': 103, 'revenue': 4944, 'inventory': 1266}, {'price': 48, 'sales': 62, 'revenue': 2976, 'inventory': 1204}, {'price': 48, 'sales': 102, 'revenue': 4896, 'inventory': 1102}, {'price': 48, 'sales': 94, 'revenue': 4512, 'inventory': 1008}, {'price': 48, 'sales': 57, 'revenue': 2736, 'inventory': 951}, {'price': 48, 'sales': 49, 'revenue': 2352, 'inventory': 902}, {'price': 48, 'sales': 96, 'revenue': 4608, 'inventory': 806}, {'price': 48, 'sales': 48, 'revenue': 2304, 'inventory': 758}, {'inventory': 0, 'price': 25, 'sales': 758, 'revenue': 18950}], 'isCompleted': True, 'optimal': {'revenue': 79010}, 'priceActions': [0, 2, 2, 2, 2, 2, 2, 2, 2, 2, 2, 2, 2, 2, 2]}, 'isCompleted': True, 'isStarted': True, 'isView': True}, 'status': 0}\n"
     ]
    }
   ],
   "source": [
    "# fix price_action at 2 and run all the way to the end\n",
    "price_action = 2\n",
    "while not round_data['data']['isCompleted']:\n",
    "    round_data = postPriceAction(host=HOST, access_token=ACCESS_TOKEN, competition_id=\"TEST_ROBOT\", price_action=price_action)\n",
    "    print(round_data)\n",
    "    # you need to decide your own price strategy here\n",
    "    price_action = 2  "
   ]
  },
  {
   "cell_type": "code",
   "execution_count": null,
   "id": "910c5ad3-f883-4446-93f6-250debab790d",
   "metadata": {},
   "outputs": [],
   "source": []
  },
  {
   "cell_type": "code",
   "execution_count": null,
   "id": "31d96e50-21f2-439d-82cf-401071aa37a0",
   "metadata": {},
   "outputs": [],
   "source": []
  },
  {
   "cell_type": "code",
   "execution_count": 12,
   "id": "ade9c308-2965-4bd1-a4f6-7fae0ab47c39",
   "metadata": {},
   "outputs": [
    {
     "name": "stdout",
     "output_type": "stream",
     "text": [
      "200\n",
      "Competition_data: \n",
      " {'student': {'name': 'Tong (Test)', 'email': 'tongwang@nus.edu.sg'}, 'data': {'competition_id': 'TEST_ROBOT', 'totalRounds': 6, 'isRobot': True, 'currentRound': 6, 'clientRoundDataArr': [{'revenue': 91497, 'optimal': 91497}, {'revenue': 65259, 'optimal': 65259}, {'revenue': 73922, 'optimal': 73922}, {'revenue': 96648, 'optimal': 108864}, {'revenue': 92269, 'optimal': 92269}, {'revenue': 79010, 'optimal': 79010}], 'isStarted': True, 'isCompleted': True}, 'status': 0}\n"
     ]
    }
   ],
   "source": [
    "# get competition data (for a new competition)\n",
    "competition_data = getCompetitionData(host=HOST, access_token=ACCESS_TOKEN, competition_id=\"TEST_ROBOT\")\n",
    "print(\"Competition_data: \\n\", competition_data)"
   ]
  },
  {
   "cell_type": "code",
   "execution_count": null,
   "id": "aad2292d-7714-44da-90fb-3e4cd87447cf",
   "metadata": {},
   "outputs": [],
   "source": []
  }
 ],
 "metadata": {
  "kernelspec": {
   "display_name": "Python 3 (ipykernel)",
   "language": "python",
   "name": "python3"
  },
  "language_info": {
   "codemirror_mode": {
    "name": "ipython",
    "version": 3
   },
   "file_extension": ".py",
   "mimetype": "text/x-python",
   "name": "python",
   "nbconvert_exporter": "python",
   "pygments_lexer": "ipython3",
   "version": "3.12.7"
  }
 },
 "nbformat": 4,
 "nbformat_minor": 5
}
